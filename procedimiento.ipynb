{
 "cells": [
  {
   "cell_type": "code",
   "execution_count": null,
   "metadata": {},
   "outputs": [],
   "source": [
    "%pip install pandas seaborn matplotlib numpy scikit-learn"
   ]
  },
  {
   "attachments": {},
   "cell_type": "markdown",
   "metadata": {},
   "source": [
    "Para comenzar importaremos las librerías necesarias para llevar a cabo la práctica"
   ]
  },
  {
   "cell_type": "code",
   "execution_count": null,
   "metadata": {},
   "outputs": [],
   "source": [
    "import pandas as pd\n",
    "import seaborn as sea\n",
    "import time\n",
    "import numpy as np\n",
    "import matplotlib.pyplot as plt\n",
    "import pickle"
   ]
  },
  {
   "attachments": {},
   "cell_type": "markdown",
   "metadata": {},
   "source": [
    "Extraemos los datos proporcionados por el profesorado en dos pandas dataframes, uno para los datos disponibles y otro para los datos de competición"
   ]
  },
  {
   "cell_type": "code",
   "execution_count": null,
   "metadata": {},
   "outputs": [],
   "source": [
    "disp_df = pd.read_csv(\"disp_st21ns1.txt.bz2\",\n",
    "          compression=\"bz2\", \n",
    "          index_col=0)\n",
    "\n",
    "comp_df = pd.read_csv(\"comp_st21ns1.txt.bz2\", \n",
    "          compression=\"bz2\", \n",
    "          index_col=0)"
   ]
  },
  {
   "attachments": {},
   "cell_type": "markdown",
   "metadata": {},
   "source": [
    "Antes de comenzar el análisis exploratorio de los datos es apropiado conocer algunas carácterísticas de los datos"
   ]
  },
  {
   "cell_type": "code",
   "execution_count": null,
   "metadata": {},
   "outputs": [],
   "source": [
    "print(\"La forma de disp_df es: {}\".format(disp_df.shape))\n",
    "print(\"\\nEl numero de valores perdidos es: \")\n",
    "print(disp_df.isnull().sum())\n",
    "print(\"\\nLa fraccion de valores perdidos es: \")\n",
    "print(disp_df.isnull().mean())"
   ]
  },
  {
   "attachments": {},
   "cell_type": "markdown",
   "metadata": {},
   "source": [
    "Podemos ver que nuestros datos tienen 4380 entradas y 76 columnas en las que se incluye la salida.\n",
    "\n",
    "A continuación comprobamos el tipo de datos de las columnas para ver que todos son tipo float a excepción de la salida que es un entero."
   ]
  },
  {
   "cell_type": "code",
   "execution_count": null,
   "metadata": {},
   "outputs": [],
   "source": [
    "print(\"\\nLos tipos de los atributos son: \\n\")\n",
    "print(disp_df.info())"
   ]
  },
  {
   "attachments": {},
   "cell_type": "markdown",
   "metadata": {},
   "source": [
    "Por último, mostramos una muestra para conocer del todo la estructura de los datos."
   ]
  },
  {
   "cell_type": "code",
   "execution_count": 55,
   "metadata": {},
   "outputs": [
    {
     "name": "stdout",
     "output_type": "stream",
     "text": [
      "    apcp_sf1_1  apcp_sf2_1  apcp_sf3_1  apcp_sf4_1  apcp_sf5_1  dlwrf_s1_1  \\\n",
      "V1         0.0    0.000000    0.000000    0.000000    0.000000  259.492673   \n",
      "V2         0.0    0.000000    0.012727    0.059091    0.662727  254.725868   \n",
      "V3         0.0    0.000000    0.000000    0.000000    0.004545  215.280002   \n",
      "V4         0.0    0.000909    0.000000    0.000000    0.000000  240.408503   \n",
      "V5         0.0    0.000000    0.000000    0.000000    0.000000  233.435475   \n",
      "\n",
      "    dlwrf_s2_1  dlwrf_s3_1  dlwrf_s4_1  dlwrf_s5_1  ...  ulwrf_t2_1  \\\n",
      "V1  245.787096  251.719940  265.741308  264.195623  ...  249.231748   \n",
      "V2  287.278670  300.254822  305.623560  309.383628  ...  201.094627   \n",
      "V3  210.086931  215.133093  239.983668  245.567405  ...  229.283282   \n",
      "V4  238.623817  246.948127  239.910919  237.894957  ...  237.462230   \n",
      "V5  237.927051  245.669004  270.759064  279.572826  ...  231.524841   \n",
      "\n",
      "    ulwrf_t3_1  ulwrf_t4_1  ulwrf_t5_1  uswrf_s1_1  uswrf_s2_1  uswrf_s3_1  \\\n",
      "V1  251.032998  258.342404  254.976936         0.0    9.000000   48.000000   \n",
      "V2  204.209094  216.197508  209.780189         0.0    3.727273   19.545455   \n",
      "V3  230.389841  231.086422  225.074921         0.0    9.454545   53.727273   \n",
      "V4  238.580390  247.563945  241.321951         0.0    6.545455   37.545455   \n",
      "V5  236.043714  253.310007  241.200682         0.0    7.818182   46.363636   \n",
      "\n",
      "    uswrf_s4_1  uswrf_s5_1    salida  \n",
      "V1  103.636364   69.818182  11500500  \n",
      "V2   66.909091   40.454545   6439800  \n",
      "V3  112.454545   74.181818   8325900  \n",
      "V4  103.000000   69.909091   6727800  \n",
      "V5  102.454545   66.818182  10879500  \n",
      "\n",
      "[5 rows x 76 columns]\n"
     ]
    }
   ],
   "source": [
    "print(disp_df.head())"
   ]
  },
  {
   "attachments": {},
   "cell_type": "markdown",
   "metadata": {},
   "source": [
    "Ahora que estamos más familiarizados con los datos, vamos a comenzar la parte más importante del análisis exploratorio de los datos. Para ello, utilizaremos matrices de correlación pues por el número de columnas disponibles es complicado analizarlas una a una.\n",
    "\n",
    "En concreto vamos a realizar 5 matrices de correlación agrupando las columnas en 5 grupos según la hora del día que representan. Actualmente contamos con \"disp_df\" en el cual están todas juntas por lo que habra que dividirlos primero."
   ]
  },
  {
   "cell_type": "code",
   "execution_count": 56,
   "metadata": {},
   "outputs": [],
   "source": [
    "# Columnas de la franja de hora 1:\n",
    "columns_1 = disp_df.columns[disp_df.columns.str.endswith('1_1')]\n",
    "disp_df1 = disp_df.loc[:,columns_1]\n",
    "\n",
    "# Columnas de la franja de hora 2:\n",
    "\n",
    "columns_2 = disp_df.columns[disp_df.columns.str.endswith('2_1')]\n",
    "disp_df2 = disp_df.loc[:,columns_2]\n",
    "\n",
    "# Columnas de la franja de hora 3:\n",
    "columns_3 = disp_df.columns[disp_df.columns.str.endswith('3_1')]\n",
    "disp_df3 = disp_df.loc[:,columns_3]\n",
    "\n",
    "# Columnas de la franja de hora 4:\n",
    "columns_4 = disp_df.columns[disp_df.columns.str.endswith('4_1')]\n",
    "disp_df4 = disp_df.loc[:,columns_4]\n",
    "\n",
    "# Columnas de la franja de hora 5:\n",
    "columns_5 = disp_df.columns[disp_df.columns.str.endswith('5_1')]\n",
    "disp_df5 = disp_df.loc[:,columns_5]\n",
    "\n",
    "corr_matrix1 = disp_df1.corr()\n",
    "\n",
    "corr_matrix2 = disp_df2.corr()\n",
    "\n",
    "corr_matrix3 = disp_df3.corr()\n",
    "\n",
    "corr_matrix4 = disp_df4.corr()\n",
    "\n",
    "corr_matrix5 = disp_df5.corr()"
   ]
  },
  {
   "attachments": {},
   "cell_type": "markdown",
   "metadata": {},
   "source": [
    "Mostramos Matriz 1:"
   ]
  },
  {
   "cell_type": "code",
   "execution_count": 57,
   "metadata": {},
   "outputs": [
    {
     "name": "stdout",
     "output_type": "stream",
     "text": [
      "La matriz de correlacion 1 es: \n",
      "\n",
      "            apcp_sf1_1  dlwrf_s1_1  dswrf_s1_1  pres_ms1_1  pwat_ea1_1  \\\n",
      "apcp_sf1_1    1.000000    0.272664   -0.001553   -0.168738    0.319918   \n",
      "dlwrf_s1_1    0.272664    1.000000    0.221936   -0.576028    0.911788   \n",
      "dswrf_s1_1   -0.001553    0.221936    1.000000   -0.104149    0.221094   \n",
      "pres_ms1_1   -0.168738   -0.576028   -0.104149    1.000000   -0.436834   \n",
      "pwat_ea1_1    0.319918    0.911788    0.221094   -0.436834    1.000000   \n",
      "spfh_2m1_1    0.234057    0.914050    0.255586   -0.540412    0.901647   \n",
      "tcdc_ea1_1    0.604816    0.207977   -0.041831   -0.107998    0.226208   \n",
      "tcolc_e1_1    0.604853    0.207742   -0.041909   -0.107987    0.226051   \n",
      "tmax_2m1_1    0.108320    0.900389    0.242752   -0.593120    0.795255   \n",
      "tmin_2m1_1    0.123036    0.916958    0.238853   -0.601203    0.824413   \n",
      "tmp_2m_1_1    0.125709    0.920802    0.243009   -0.606706    0.828739   \n",
      "tmp_sfc1_1    0.139441    0.933120    0.245059   -0.604825    0.844014   \n",
      "ulwrf_s1_1    0.127347    0.925428    0.248722   -0.586939    0.832594   \n",
      "ulwrf_t1_1   -0.418506    0.183385    0.126186   -0.156095    0.099756   \n",
      "uswrf_s1_1   -0.052137    0.229238    0.232560   -0.161080    0.212155   \n",
      "\n",
      "            spfh_2m1_1  tcdc_ea1_1  tcolc_e1_1  tmax_2m1_1  tmin_2m1_1  \\\n",
      "apcp_sf1_1    0.234057    0.604816    0.604853    0.108320    0.123036   \n",
      "dlwrf_s1_1    0.914050    0.207977    0.207742    0.900389    0.916958   \n",
      "dswrf_s1_1    0.255586   -0.041831   -0.041909    0.242752    0.238853   \n",
      "pres_ms1_1   -0.540412   -0.107998   -0.107987   -0.593120   -0.601203   \n",
      "pwat_ea1_1    0.901647    0.226208    0.226051    0.795255    0.824413   \n",
      "spfh_2m1_1    1.000000    0.086772    0.086660    0.861374    0.887198   \n",
      "tcdc_ea1_1    0.086772    1.000000    0.999981   -0.022232    0.003133   \n",
      "tcolc_e1_1    0.086660    0.999981    1.000000   -0.022267    0.003067   \n",
      "tmax_2m1_1    0.861374   -0.022232   -0.022267    1.000000    0.988283   \n",
      "tmin_2m1_1    0.887198    0.003133    0.003067    0.988283    1.000000   \n",
      "tmp_2m_1_1    0.892881    0.008819    0.008744    0.986552    0.998068   \n",
      "tmp_sfc1_1    0.901741    0.029107    0.029019    0.984673    0.996506   \n",
      "ulwrf_s1_1    0.889551    0.004691    0.004643    0.992948    0.993455   \n",
      "ulwrf_t1_1    0.264348   -0.557225   -0.556884    0.433583    0.407104   \n",
      "uswrf_s1_1    0.309627   -0.115253   -0.115187    0.273734    0.268593   \n",
      "\n",
      "            tmp_2m_1_1  tmp_sfc1_1  ulwrf_s1_1  ulwrf_t1_1  uswrf_s1_1  \n",
      "apcp_sf1_1    0.125709    0.139441    0.127347   -0.418506   -0.052137  \n",
      "dlwrf_s1_1    0.920802    0.933120    0.925428    0.183385    0.229238  \n",
      "dswrf_s1_1    0.243009    0.245059    0.248722    0.126186    0.232560  \n",
      "pres_ms1_1   -0.606706   -0.604825   -0.586939   -0.156095   -0.161080  \n",
      "pwat_ea1_1    0.828739    0.844014    0.832594    0.099756    0.212155  \n",
      "spfh_2m1_1    0.892881    0.901741    0.889551    0.264348    0.309627  \n",
      "tcdc_ea1_1    0.008819    0.029107    0.004691   -0.557225   -0.115253  \n",
      "tcolc_e1_1    0.008744    0.029019    0.004643   -0.556884   -0.115187  \n",
      "tmax_2m1_1    0.986552    0.984673    0.992948    0.433583    0.273734  \n",
      "tmin_2m1_1    0.998068    0.996506    0.993455    0.407104    0.268593  \n",
      "tmp_2m_1_1    1.000000    0.998123    0.990750    0.403501    0.282218  \n",
      "tmp_sfc1_1    0.998123    1.000000    0.992565    0.386847    0.285873  \n",
      "ulwrf_s1_1    0.990750    0.992565    1.000000    0.406373    0.272927  \n",
      "ulwrf_t1_1    0.403501    0.386847    0.406373    1.000000    0.258089  \n",
      "uswrf_s1_1    0.282218    0.285873    0.272927    0.258089    1.000000  \n"
     ]
    },
    {
     "data": {
      "text/plain": [
       "<Axes: >"
      ]
     },
     "execution_count": 57,
     "metadata": {},
     "output_type": "execute_result"
    },
    {
     "data": {
      "image/png": "[encoded data removed]",
      "text/plain": [
       "<Figure size 640x480 with 2 Axes>"
      ]
     },
     "metadata": {},
     "output_type": "display_data"
    }
   ],
   "source": [
    "print(\"La matriz de correlacion 1 es: \\n\")\n",
    "print(corr_matrix1)\n",
    "sea.heatmap(corr_matrix1)"
   ]
  },
  {
   "attachments": {},
   "cell_type": "markdown",
   "metadata": {},
   "source": [
    "Mostramos Matriz 2:"
   ]
  },
  {
   "cell_type": "code",
   "execution_count": 58,
   "metadata": {},
   "outputs": [
    {
     "name": "stdout",
     "output_type": "stream",
     "text": [
      "La matriz de correlacion 2 es: \n",
      "\n",
      "            apcp_sf2_1  dlwrf_s2_1  dswrf_s2_1  pres_ms2_1  pwat_ea2_1  \\\n",
      "apcp_sf2_1    1.000000    0.215907   -0.148815   -0.130354    0.257231   \n",
      "dlwrf_s2_1    0.215907    1.000000    0.504165   -0.569419    0.922055   \n",
      "dswrf_s2_1   -0.148815    0.504165    1.000000   -0.300135    0.483689   \n",
      "pres_ms2_1   -0.130354   -0.569419   -0.300135    1.000000   -0.436530   \n",
      "pwat_ea2_1    0.257231    0.922055    0.483689   -0.436530    1.000000   \n",
      "spfh_2m2_1    0.124134    0.921451    0.672917   -0.534521    0.898384   \n",
      "tcdc_ea2_1    0.653454    0.211491   -0.301237   -0.102039    0.198115   \n",
      "tcolc_e2_1    0.653645    0.211335   -0.301031   -0.102070    0.198040   \n",
      "tmax_2m2_1    0.031619    0.874483    0.752895   -0.564677    0.797152   \n",
      "tmin_2m2_1    0.080200    0.916462    0.669969   -0.599439    0.836272   \n",
      "tmp_2m_2_1    0.027567    0.871073    0.755748   -0.561579    0.795578   \n",
      "tmp_sfc2_1    0.011482    0.855774    0.778019   -0.539346    0.785383   \n",
      "ulwrf_s2_1    0.058022    0.907874    0.740461   -0.560671    0.837839   \n",
      "ulwrf_t2_1   -0.355960    0.215659    0.563840   -0.172358    0.148538   \n",
      "uswrf_s2_1   -0.180998    0.428609    0.988035   -0.248983    0.414738   \n",
      "\n",
      "            spfh_2m2_1  tcdc_ea2_1  tcolc_e2_1  tmax_2m2_1  tmin_2m2_1  \\\n",
      "apcp_sf2_1    0.124134    0.653454    0.653645    0.031619    0.080200   \n",
      "dlwrf_s2_1    0.921451    0.211491    0.211335    0.874483    0.916462   \n",
      "dswrf_s2_1    0.672917   -0.301237   -0.301031    0.752895    0.669969   \n",
      "pres_ms2_1   -0.534521   -0.102039   -0.102070   -0.564677   -0.599439   \n",
      "pwat_ea2_1    0.898384    0.198115    0.198040    0.797152    0.836272   \n",
      "spfh_2m2_1    1.000000    0.017936    0.017951    0.917785    0.928562   \n",
      "tcdc_ea2_1    0.017936    1.000000    0.999982   -0.072076   -0.003634   \n",
      "tcolc_e2_1    0.017951    0.999982    1.000000   -0.071996   -0.003586   \n",
      "tmax_2m2_1    0.917785   -0.072076   -0.071996    1.000000    0.983741   \n",
      "tmin_2m2_1    0.928562   -0.003634   -0.003586    0.983741    1.000000   \n",
      "tmp_2m_2_1    0.917947   -0.077627   -0.077549    0.999297    0.982658   \n",
      "tmp_sfc2_1    0.911017   -0.099975   -0.099893    0.996060    0.972476   \n",
      "ulwrf_s2_1    0.942289   -0.035596   -0.035539    0.992557    0.990336   \n",
      "ulwrf_t2_1    0.377774   -0.583479   -0.583127    0.495646    0.434939   \n",
      "uswrf_s2_1    0.617027   -0.349853   -0.349562    0.706211    0.614084   \n",
      "\n",
      "            tmp_2m_2_1  tmp_sfc2_1  ulwrf_s2_1  ulwrf_t2_1  uswrf_s2_1  \n",
      "apcp_sf2_1    0.027567    0.011482    0.058022   -0.355960   -0.180998  \n",
      "dlwrf_s2_1    0.871073    0.855774    0.907874    0.215659    0.428609  \n",
      "dswrf_s2_1    0.755748    0.778019    0.740461    0.563840    0.988035  \n",
      "pres_ms2_1   -0.561579   -0.539346   -0.560671   -0.172358   -0.248983  \n",
      "pwat_ea2_1    0.795578    0.785383    0.837839    0.148538    0.414738  \n",
      "spfh_2m2_1    0.917947    0.911017    0.942289    0.377774    0.617027  \n",
      "tcdc_ea2_1   -0.077627   -0.099975   -0.035596   -0.583479   -0.349853  \n",
      "tcolc_e2_1   -0.077549   -0.099893   -0.035539   -0.583127   -0.349562  \n",
      "tmax_2m2_1    0.999297    0.996060    0.992557    0.495646    0.706211  \n",
      "tmin_2m2_1    0.982658    0.972476    0.990336    0.434939    0.614084  \n",
      "tmp_2m_2_1    1.000000    0.996955    0.991441    0.497631    0.709473  \n",
      "tmp_sfc2_1    0.996955    1.000000    0.988421    0.511411    0.733081  \n",
      "ulwrf_s2_1    0.991441    0.988421    1.000000    0.465376    0.688949  \n",
      "ulwrf_t2_1    0.497631    0.511411    0.465376    1.000000    0.614734  \n",
      "uswrf_s2_1    0.709473    0.733081    0.688949    0.614734    1.000000  \n"
     ]
    },
    {
     "data": {
      "text/plain": [
       "<Axes: >"
      ]
     },
     "execution_count": 58,
     "metadata": {},
     "output_type": "execute_result"
    },
    {
     "data": {
      "image/png": "[encoded data removed]",
      "text/plain": [
       "<Figure size 640x480 with 2 Axes>"
      ]
     },
     "metadata": {},
     "output_type": "display_data"
    }
   ],
   "source": [
    "print(\"La matriz de correlacion 2 es: \\n\")\n",
    "print(corr_matrix2)\n",
    "sea.heatmap(corr_matrix2)"
   ]
  },
  {
   "attachments": {},
   "cell_type": "markdown",
   "metadata": {},
   "source": [
    "Mostramos Matriz 3:"
   ]
  },
  {
   "cell_type": "code",
   "execution_count": 59,
   "metadata": {},
   "outputs": [
    {
     "name": "stdout",
     "output_type": "stream",
     "text": [
      "La matriz de correlacion 3 es: \n",
      "\n",
      "            apcp_sf3_1  dlwrf_s3_1  dswrf_s3_1  pres_ms3_1  pwat_ea3_1  \\\n",
      "apcp_sf3_1    1.000000    0.200123   -0.279297   -0.130400    0.236597   \n",
      "dlwrf_s3_1    0.200123    1.000000    0.397619   -0.559351    0.921991   \n",
      "dswrf_s3_1   -0.279297    0.397619    1.000000   -0.226816    0.389710   \n",
      "pres_ms3_1   -0.130400   -0.559351   -0.226816    1.000000   -0.429041   \n",
      "pwat_ea3_1    0.236597    0.921991    0.389710   -0.429041    1.000000   \n",
      "spfh_2m3_1    0.110158    0.929436    0.585605   -0.526655    0.908773   \n",
      "tcdc_ea3_1    0.603702    0.151199   -0.419529   -0.079714    0.173319   \n",
      "tcolc_e3_1    0.603641    0.151184   -0.419253   -0.079802    0.173349   \n",
      "tmax_2m3_1   -0.032994    0.847355    0.716443   -0.548253    0.768261   \n",
      "tmin_2m3_1    0.072012    0.930203    0.582216   -0.585104    0.842266   \n",
      "tmp_2m_3_1   -0.040092    0.842606    0.720051   -0.545668    0.764940   \n",
      "tmp_sfc3_1   -0.093503    0.783604    0.749915   -0.498908    0.716086   \n",
      "ulwrf_s3_1   -0.003267    0.886879    0.704443   -0.530083    0.813000   \n",
      "ulwrf_t3_1   -0.382621    0.246960    0.640372   -0.170691    0.166100   \n",
      "uswrf_s3_1   -0.320155    0.194235    0.910335   -0.073164    0.220008   \n",
      "\n",
      "            spfh_2m3_1  tcdc_ea3_1  tcolc_e3_1  tmax_2m3_1  tmin_2m3_1  \\\n",
      "apcp_sf3_1    0.110158    0.603702    0.603641   -0.032994    0.072012   \n",
      "dlwrf_s3_1    0.929436    0.151199    0.151184    0.847355    0.930203   \n",
      "dswrf_s3_1    0.585605   -0.419529   -0.419253    0.716443    0.582216   \n",
      "pres_ms3_1   -0.526655   -0.079714   -0.079802   -0.548253   -0.585104   \n",
      "pwat_ea3_1    0.908773    0.173319    0.173349    0.768261    0.842266   \n",
      "spfh_2m3_1    1.000000    0.000345    0.000449    0.892274    0.921982   \n",
      "tcdc_ea3_1    0.000345    1.000000    0.999984   -0.146443   -0.017457   \n",
      "tcolc_e3_1    0.000449    0.999984    1.000000   -0.146265   -0.017348   \n",
      "tmax_2m3_1    0.892274   -0.146443   -0.146265    1.000000    0.960002   \n",
      "tmin_2m3_1    0.921982   -0.017457   -0.017348    0.960002    1.000000   \n",
      "tmp_2m_3_1    0.891085   -0.152900   -0.152715    0.999158    0.957536   \n",
      "tmp_sfc3_1    0.849471   -0.223312   -0.223114    0.983732    0.920671   \n",
      "ulwrf_s3_1    0.919373   -0.107149   -0.106996    0.988635    0.976702   \n",
      "ulwrf_t3_1    0.385112   -0.577339   -0.576862    0.552191    0.442216   \n",
      "uswrf_s3_1    0.419817   -0.472655   -0.472351    0.519503    0.371783   \n",
      "\n",
      "            tmp_2m_3_1  tmp_sfc3_1  ulwrf_s3_1  ulwrf_t3_1  uswrf_s3_1  \n",
      "apcp_sf3_1   -0.040092   -0.093503   -0.003267   -0.382621   -0.320155  \n",
      "dlwrf_s3_1    0.842606    0.783604    0.886879    0.246960    0.194235  \n",
      "dswrf_s3_1    0.720051    0.749915    0.704443    0.640372    0.910335  \n",
      "pres_ms3_1   -0.545668   -0.498908   -0.530083   -0.170691   -0.073164  \n",
      "pwat_ea3_1    0.764940    0.716086    0.813000    0.166100    0.220008  \n",
      "spfh_2m3_1    0.891085    0.849471    0.919373    0.385112    0.419817  \n",
      "tcdc_ea3_1   -0.152900   -0.223312   -0.107149   -0.577339   -0.472655  \n",
      "tcolc_e3_1   -0.152715   -0.223114   -0.106996   -0.576862   -0.472351  \n",
      "tmax_2m3_1    0.999158    0.983732    0.988635    0.552191    0.519503  \n",
      "tmin_2m3_1    0.957536    0.920671    0.976702    0.442216    0.371783  \n",
      "tmp_2m_3_1    1.000000    0.985710    0.987144    0.555320    0.523972  \n",
      "tmp_sfc3_1    0.985710    1.000000    0.971847    0.589291    0.549345  \n",
      "ulwrf_s3_1    0.987144    0.971847    1.000000    0.526599    0.503589  \n",
      "ulwrf_t3_1    0.555320    0.589291    0.526599    1.000000    0.619407  \n",
      "uswrf_s3_1    0.523972    0.549345    0.503589    0.619407    1.000000  \n"
     ]
    },
    {
     "data": {
      "text/plain": [
       "<Axes: >"
      ]
     },
     "execution_count": 59,
     "metadata": {},
     "output_type": "execute_result"
    },
    {
     "data": {
      "image/png": "[encoded data removed]",
      "text/plain": [
       "<Figure size 640x480 with 2 Axes>"
      ]
     },
     "metadata": {},
     "output_type": "display_data"
    }
   ],
   "source": [
    "print(\"La matriz de correlacion 3 es: \\n\")\n",
    "print(corr_matrix3)\n",
    "sea.heatmap(corr_matrix3)"
   ]
  },
  {
   "attachments": {},
   "cell_type": "markdown",
   "metadata": {},
   "source": [
    "Mostramos Matriz 4:"
   ]
  },
  {
   "cell_type": "code",
   "execution_count": 60,
   "metadata": {},
   "outputs": [
    {
     "name": "stdout",
     "output_type": "stream",
     "text": [
      "La matriz de correlacion 4 es: \n",
      "\n",
      "            apcp_sf4_1  dlwrf_s4_1  dswrf_s4_1  pres_ms4_1  pwat_ea4_1  \\\n",
      "apcp_sf4_1    1.000000    0.153353   -0.315320   -0.121135    0.239859   \n",
      "dlwrf_s4_1    0.153353    1.000000    0.354637   -0.543335    0.924876   \n",
      "dswrf_s4_1   -0.315320    0.354637    1.000000   -0.172960    0.294598   \n",
      "pres_ms4_1   -0.121135   -0.543335   -0.172960    1.000000   -0.416938   \n",
      "pwat_ea4_1    0.239859    0.924876    0.294598   -0.416938    1.000000   \n",
      "spfh_2m4_1    0.125770    0.943541    0.474147   -0.509443    0.916079   \n",
      "tcdc_ea4_1    0.674661    0.101048   -0.522636   -0.053807    0.165379   \n",
      "tcolc_e4_1    0.674663    0.101016   -0.522309   -0.053910    0.165317   \n",
      "tmax_2m4_1   -0.030976    0.883056    0.647084   -0.542931    0.763980   \n",
      "tmin_2m4_1   -0.021365    0.891606    0.636820   -0.532662    0.772076   \n",
      "tmp_2m_4_1   -0.045603    0.877340    0.655965   -0.538676    0.757511   \n",
      "tmp_sfc4_1   -0.077002    0.848441    0.698502   -0.508475    0.732030   \n",
      "ulwrf_s4_1   -0.074557    0.847352    0.698771   -0.489148    0.734272   \n",
      "ulwrf_t4_1   -0.372190    0.248754    0.676713   -0.155635    0.126272   \n",
      "uswrf_s4_1   -0.342632    0.008647    0.775271    0.079029    0.009770   \n",
      "\n",
      "            spfh_2m4_1  tcdc_ea4_1  tcolc_e4_1  tmax_2m4_1  tmin_2m4_1  \\\n",
      "apcp_sf4_1    0.125770    0.674661    0.674663   -0.030976   -0.021365   \n",
      "dlwrf_s4_1    0.943541    0.101048    0.101016    0.883056    0.891606   \n",
      "dswrf_s4_1    0.474147   -0.522636   -0.522309    0.647084    0.636820   \n",
      "pres_ms4_1   -0.509443   -0.053807   -0.053910   -0.542931   -0.532662   \n",
      "pwat_ea4_1    0.916079    0.165379    0.165317    0.763980    0.772076   \n",
      "spfh_2m4_1    1.000000    0.001313    0.001352    0.871134    0.876066   \n",
      "tcdc_ea4_1    0.001313    1.000000    0.999982   -0.165905   -0.151300   \n",
      "tcolc_e4_1    0.001352    0.999982    1.000000   -0.165746   -0.151143   \n",
      "tmax_2m4_1    0.871134   -0.165905   -0.165746    1.000000    0.996754   \n",
      "tmin_2m4_1    0.876066   -0.151300   -0.151143    0.996754    1.000000   \n",
      "tmp_2m_4_1    0.868308   -0.181380   -0.181218    0.999217    0.995824   \n",
      "tmp_sfc4_1    0.843236   -0.222236   -0.222075    0.990767    0.984693   \n",
      "ulwrf_s4_1    0.839912   -0.218374   -0.218214    0.987904    0.984565   \n",
      "ulwrf_t4_1    0.328884   -0.654561   -0.654078    0.531595    0.522976   \n",
      "uswrf_s4_1    0.169147   -0.539487   -0.539154    0.259900    0.251237   \n",
      "\n",
      "            tmp_2m_4_1  tmp_sfc4_1  ulwrf_s4_1  ulwrf_t4_1  uswrf_s4_1  \n",
      "apcp_sf4_1   -0.045603   -0.077002   -0.074557   -0.372190   -0.342632  \n",
      "dlwrf_s4_1    0.877340    0.848441    0.847352    0.248754    0.008647  \n",
      "dswrf_s4_1    0.655965    0.698502    0.698771    0.676713    0.775271  \n",
      "pres_ms4_1   -0.538676   -0.508475   -0.489148   -0.155635    0.079029  \n",
      "pwat_ea4_1    0.757511    0.732030    0.734272    0.126272    0.009770  \n",
      "spfh_2m4_1    0.868308    0.843236    0.839912    0.328884    0.169147  \n",
      "tcdc_ea4_1   -0.181380   -0.222236   -0.218374   -0.654561   -0.539487  \n",
      "tcolc_e4_1   -0.181218   -0.222075   -0.218214   -0.654078   -0.539154  \n",
      "tmax_2m4_1    0.999217    0.990767    0.987904    0.531595    0.259900  \n",
      "tmin_2m4_1    0.995824    0.984693    0.984565    0.522976    0.251237  \n",
      "tmp_2m_4_1    1.000000    0.992573    0.988477    0.540254    0.270577  \n",
      "tmp_sfc4_1    0.992573    1.000000    0.996226    0.565589    0.300427  \n",
      "ulwrf_s4_1    0.988477    0.996226    1.000000    0.571246    0.313172  \n",
      "ulwrf_t4_1    0.540254    0.565589    0.571246    1.000000    0.541778  \n",
      "uswrf_s4_1    0.270577    0.300427    0.313172    0.541778    1.000000  \n"
     ]
    },
    {
     "data": {
      "text/plain": [
       "<Axes: >"
      ]
     },
     "execution_count": 60,
     "metadata": {},
     "output_type": "execute_result"
    },
    {
     "data": {
      "image/png": "[encoded data removed]",
      "text/plain": [
       "<Figure size 640x480 with 2 Axes>"
      ]
     },
     "metadata": {},
     "output_type": "display_data"
    }
   ],
   "source": [
    "print(\"La matriz de correlacion 4 es: \\n\")\n",
    "print(corr_matrix4)\n",
    "sea.heatmap(corr_matrix4)"
   ]
  },
  {
   "attachments": {},
   "cell_type": "markdown",
   "metadata": {},
   "source": [
    "Mostramos Matriz 5:"
   ]
  },
  {
   "cell_type": "code",
   "execution_count": 61,
   "metadata": {},
   "outputs": [
    {
     "name": "stdout",
     "output_type": "stream",
     "text": [
      "La matriz de correlacion 5 es: \n",
      "\n",
      "            apcp_sf5_1  dlwrf_s5_1  dswrf_s5_1  pres_ms5_1  pwat_ea5_1  \\\n",
      "apcp_sf5_1    1.000000    0.160652   -0.272184   -0.129085    0.239105   \n",
      "dlwrf_s5_1    0.160652    1.000000    0.468639   -0.584188    0.920072   \n",
      "dswrf_s5_1   -0.272184    0.468639    1.000000   -0.274781    0.394244   \n",
      "pres_ms5_1   -0.129085   -0.584188   -0.274781    1.000000   -0.464452   \n",
      "pwat_ea5_1    0.239105    0.920072    0.394244   -0.464452    1.000000   \n",
      "spfh_2m5_1    0.104521    0.946249    0.602943   -0.563564    0.902154   \n",
      "tcdc_ea5_1    0.609717    0.093117   -0.375446   -0.042419    0.180746   \n",
      "tcolc_e5_1    0.609876    0.093479   -0.375046   -0.042658    0.181062   \n",
      "tmax_2m5_1   -0.026075    0.891086    0.692278   -0.590202    0.766240   \n",
      "tmin_2m5_1   -0.012251    0.914267    0.707868   -0.591887    0.795207   \n",
      "tmp_2m_5_1   -0.010607    0.916514    0.708463   -0.598083    0.798487   \n",
      "tmp_sfc5_1    0.004747    0.926690    0.709187   -0.592291    0.812553   \n",
      "ulwrf_s5_1   -0.056065    0.880713    0.739877   -0.553266    0.762747   \n",
      "ulwrf_t5_1   -0.398245    0.284578    0.660533   -0.196956    0.146807   \n",
      "uswrf_s5_1   -0.324464    0.228500    0.880060   -0.084233    0.190807   \n",
      "\n",
      "            spfh_2m5_1  tcdc_ea5_1  tcolc_e5_1  tmax_2m5_1  tmin_2m5_1  \\\n",
      "apcp_sf5_1    0.104521    0.609717    0.609876   -0.026075   -0.012251   \n",
      "dlwrf_s5_1    0.946249    0.093117    0.093479    0.891086    0.914267   \n",
      "dswrf_s5_1    0.602943   -0.375446   -0.375046    0.692278    0.707868   \n",
      "pres_ms5_1   -0.563564   -0.042419   -0.042658   -0.590202   -0.591887   \n",
      "pwat_ea5_1    0.902154    0.180746    0.181062    0.766240    0.795207   \n",
      "spfh_2m5_1    1.000000   -0.010256   -0.009756    0.890482    0.916425   \n",
      "tcdc_ea5_1   -0.010256    1.000000    0.999976   -0.135563   -0.114316   \n",
      "tcolc_e5_1   -0.009756    0.999976    1.000000   -0.135101   -0.113875   \n",
      "tmax_2m5_1    0.890482   -0.135563   -0.135101    1.000000    0.989513   \n",
      "tmin_2m5_1    0.916425   -0.114316   -0.113875    0.989513    1.000000   \n",
      "tmp_2m_5_1    0.919609   -0.113439   -0.112999    0.987697    0.998671   \n",
      "tmp_sfc5_1    0.927259   -0.093327   -0.092891    0.979814    0.996194   \n",
      "ulwrf_s5_1    0.887665   -0.160417   -0.159987    0.991800    0.987876   \n",
      "ulwrf_t5_1    0.383430   -0.602931   -0.602274    0.548835    0.522711   \n",
      "uswrf_s5_1    0.395103   -0.438004   -0.437618    0.445958    0.454907   \n",
      "\n",
      "            tmp_2m_5_1  tmp_sfc5_1  ulwrf_s5_1  ulwrf_t5_1  uswrf_s5_1  \n",
      "apcp_sf5_1   -0.010607    0.004747   -0.056065   -0.398245   -0.324464  \n",
      "dlwrf_s5_1    0.916514    0.926690    0.880713    0.284578    0.228500  \n",
      "dswrf_s5_1    0.708463    0.709187    0.739877    0.660533    0.880060  \n",
      "pres_ms5_1   -0.598083   -0.592291   -0.553266   -0.196956   -0.084233  \n",
      "pwat_ea5_1    0.798487    0.812553    0.762747    0.146807    0.190807  \n",
      "spfh_2m5_1    0.919609    0.927259    0.887665    0.383430    0.395103  \n",
      "tcdc_ea5_1   -0.113439   -0.093327   -0.160417   -0.602931   -0.438004  \n",
      "tcolc_e5_1   -0.112999   -0.092891   -0.159987   -0.602274   -0.437618  \n",
      "tmax_2m5_1    0.987697    0.979814    0.991800    0.548835    0.445958  \n",
      "tmin_2m5_1    0.998671    0.996194    0.987876    0.522711    0.454907  \n",
      "tmp_2m_5_1    1.000000    0.998050    0.986108    0.517275    0.454653  \n",
      "tmp_sfc5_1    0.998050    1.000000    0.980277    0.498446    0.451157  \n",
      "ulwrf_s5_1    0.986108    0.980277    1.000000    0.571281    0.498252  \n",
      "ulwrf_t5_1    0.517275    0.498446    0.571281    1.000000    0.619796  \n",
      "uswrf_s5_1    0.454653    0.451157    0.498252    0.619796    1.000000  \n"
     ]
    },
    {
     "data": {
      "text/plain": [
       "<Axes: >"
      ]
     },
     "execution_count": 61,
     "metadata": {},
     "output_type": "execute_result"
    },
    {
     "data": {
      "image/png": "[encoded data removed]",
      "text/plain": [
       "<Figure size 640x480 with 2 Axes>"
      ]
     },
     "metadata": {},
     "output_type": "display_data"
    }
   ],
   "source": [
    "print(\"La matriz de correlacion 5 es: \\n\")\n",
    "print(corr_matrix5)\n",
    "sea.heatmap(corr_matrix5)"
   ]
  },
  {
   "attachments": {},
   "cell_type": "markdown",
   "metadata": {},
   "source": [
    "Tras generar y mostrar todas las matrices de correlación, se puede ver que las 5 son prácticamente iguales. Esto se puede interpretar como que, teniendo en cuenta que fueron agrupadadas según las 5 horas del día en las que se tomaron medidas, verdaderamente esto no influye en la correlación entre las distintas variables siendo un sistema que se mantiene estable.\n",
    "\n",
    "Sin embargo, si nos fijamos de una forma mas específica en las distintas variables y sus correlaciones con cada una de las demás, podemos ver claras diferencias entre ellas. Por ejemplo, la correlación entre las variables \"pwat_ea\" y \"spfh_2m\" es de alrededor de 0.90. Esto quiere decir que están altamente correlacionadas una con la otra y un incremento de una, probablemente provocaría un incremento en la otra casi igual de grande (lo mismo ocurriría con un descenso). Al contrario de estas se encuentra el caso de las variables \"tmax_2m\" y \"pres_ms\" que tienen una correlación de -0.59. En este caso, un descenso de una provocaría el aumento de la otra y viceversa aunque con un efecto algo más pequeño en comparación con el ejemplo de correlación positiva mencionada anteriormente.\n",
    "\n",
    "En un punto medio nos encontramos con casos como \"tcolc_e\" y \"dlwrf_s\" que tienen una correlación cercana a 0 (0.093117) por lo que es posible considerar que se trata de dos variables independientes una de la otra.\n",
    "\n",
    "No consideramos necesario hacer una representación gráfica tipo boxplot ya que las matrices mostradas anteriormente ya no sirven para el análisis que se pide permitiendonos conocer un poco mejor el set de datos que se nos proporciona y las relaciones entre las variables."
   ]
  },
  {
   "attachments": {},
   "cell_type": "markdown",
   "metadata": {},
   "source": [
    "Ahora que hemos completado el análisis exploratorio de datos, pasamos al punto 4 del enunciado en el que se pide dividir los datos en \"train\" y \"test\". Para ello primero debemos separar la salida del resto de columnas. \n",
    "\n",
    "Como se pide, separaremos los primeros 10 años para entrenamiento y los 2 últimos para test. Al mismo tiempo debemos dividir esos 10 años en 8 para entrenamiento y 2 para validación."
   ]
  },
  {
   "cell_type": "code",
   "execution_count": 62,
   "metadata": {},
   "outputs": [],
   "source": [
    "from sklearn.model_selection import train_test_split\n",
    "from sklearn.preprocessing import MinMaxScaler\n",
    "from sklearn.dummy import DummyRegressor\n",
    "from sklearn.neighbors import KNeighborsRegressor\n",
    "from sklearn.tree import DecisionTreeRegressor\n",
    "from sklearn.linear_model import LinearRegression\n",
    "from sklearn.metrics import mean_squared_error, mean_absolute_error\n",
    "from sklearn.model_selection import PredefinedSplit\n",
    "from sklearn.model_selection import cross_val_score"
   ]
  },
  {
   "cell_type": "code",
   "execution_count": 63,
   "metadata": {},
   "outputs": [],
   "source": [
    "X_df = disp_df.drop('salida', axis=1)\n",
    "y_df = disp_df['salida']\n",
    "\n",
    "X_train, X_test, y_train, y_test = train_test_split(X_df, y_df, test_size=2/12, random_state=21)\n",
    "X_train_2, X_validation, y_train_2, y_validation = train_test_split(X_train, y_train, test_size=2/10, random_state=21)\n",
    "\n",
    "# Diccionario para almacenar los resultados\n",
    "resultados = {}"
   ]
  },
  {
   "attachments": {},
   "cell_type": "markdown",
   "metadata": {},
   "source": [
    "Ya que se ha pedido que no se haga cross validation mezclando datos presentes y futuros, vamos a usar un PredefinedSplit para usar como \"cv\" donde se requiera."
   ]
  },
  {
   "cell_type": "code",
   "execution_count": 64,
   "metadata": {},
   "outputs": [],
   "source": [
    "# Creamos una lista del tamaño del conjunto de entrenamiento\n",
    "tamaño = X_train_2.shape[0]\n",
    "indices = np.zeros(tamaño, dtype=int)\n",
    "\n",
    "# El conjunto se dividirá en 6 años de entrenamiento y 2 de prueba\n",
    "train_end_index = 365 * 6\n",
    "\n",
    "indices[:train_end_index] = -1\n",
    "indices[train_end_index:] = 0\n",
    "\n",
    "# Creamos el objeto PredefinedSplit usando los índices de entrenamiento y prueba\n",
    "pds = PredefinedSplit(indices)\n",
    "\n",
    "# Creamos otro pds para los que usen X_train\n",
    "tamaño = X_train.shape[0]\n",
    "indices = np.zeros(tamaño, dtype=int)\n",
    "\n",
    "train_end_index = 365 * 8\n",
    "\n",
    "indices[:train_end_index] = -1\n",
    "indices[train_end_index:] = 0\n",
    "\n",
    "pds_full = PredefinedSplit(indices)"
   ]
  },
  {
   "attachments": {},
   "cell_type": "markdown",
   "metadata": {},
   "source": [
    "Para tener una primera visión de cómo de bueno es un modelo básico con nuestros datos implementamos un Dummy Regressor. Para este sí está permitido utilizar los datos de X_test ya que solo sirve para hacerse una idea de como se comporta el regressor."
   ]
  },
  {
   "cell_type": "code",
   "execution_count": 65,
   "metadata": {},
   "outputs": [
    {
     "name": "stdout",
     "output_type": "stream",
     "text": [
      "[DUMMY REGRESSOR]: El MAE es: 6682629.317305312\n",
      "[DUMMY REGRESSOR]: El RMSE es: 7829253.654709075\n",
      "[DUMMY REGRESSOR]: El score es: [-0.00111056]\n"
     ]
    }
   ],
   "source": [
    "# Crear Dummy Regressor\n",
    "dummy_regr = DummyRegressor(strategy=\"mean\")\n",
    "np.random.seed(21)\n",
    "\n",
    "# Entrenamos el modelo con el conjunto de entrenamiento\n",
    "dummy_regr.fit(X_train, y_train)\n",
    "\n",
    "# Hacemos predicciones en el conjunto de prueba\n",
    "y_test_pred = dummy_regr.predict(X_test)\n",
    "\n",
    "# Evaluamos el modelo usando MAE y RMSE\n",
    "mae_dummy = mean_absolute_error(y_test, y_test_pred)\n",
    "mse_dummy = mean_squared_error(y_test, y_test_pred)\n",
    "rmse_dummy = np.sqrt(mse_dummy)\n",
    "score = cross_val_score(dummy_regr, X_train, y_train, cv=pds_full)\n",
    "print(\"[DUMMY REGRESSOR]: El MAE es: {}\".format(mae_dummy))\n",
    "print(\"[DUMMY REGRESSOR]: El RMSE es: {}\".format(rmse_dummy))\n",
    "print(\"[DUMMY REGRESSOR]: El score es: {}\".format(score))\n",
    "resultados[\"Dummy\"] = [mae_dummy, rmse_dummy, score]\n"
   ]
  },
  {
   "attachments": {},
   "cell_type": "markdown",
   "metadata": {},
   "source": [
    "Una vez hecho, comenzamos a crear y evaluar modelos con los datos disponibles sin ajustar hiperparámetros. El primero de ellos es KNN"
   ]
  },
  {
   "cell_type": "code",
   "execution_count": 66,
   "metadata": {},
   "outputs": [
    {
     "name": "stdout",
     "output_type": "stream",
     "text": [
      "TIEMPO:  0.003628969192504883\n",
      "[KNN]: El MAE es: 2668303.808219178\n",
      "[KNN]: El RMSE es: 3852690.2513246946\n",
      "[KNN]: El score es: [0.73439901]\n"
     ]
    }
   ],
   "source": [
    "# Normalización de los datos\n",
    "scaler = MinMaxScaler()\n",
    "X_train_norm_2 = scaler.fit_transform(X_train_2)\n",
    "X_validation_norm = scaler.transform(X_validation)\n",
    "\n",
    "# Crear KNN model\n",
    "knn_regr = KNeighborsRegressor()\n",
    "np.random.seed(21)\n",
    "\n",
    "# Entrenamos el modelo con el conjunto de entrenamiento y medimos el tiempo que tarda\n",
    "start = time.time()\n",
    "\n",
    "knn_regr.fit(X_train_norm_2, y_train_2)\n",
    "\n",
    "end = time.time()\n",
    "tiempo_knn = end - start\n",
    "print(\"TIEMPO: \", tiempo_knn)\n",
    "\n",
    "# Hacemos predicciones en el conjunto de prueba\n",
    "y_test_pred = knn_regr.predict(X_validation_norm)\n",
    "\n",
    "# Evaluamos el modelo usando MAE y RMSE\n",
    "mae_knn= mean_absolute_error(y_validation, y_test_pred)\n",
    "mse_knn= mean_squared_error(y_validation, y_test_pred)\n",
    "rmse_knn= np.sqrt(mse_knn)\n",
    "score = cross_val_score(knn_regr, X_train_2, y_train_2, cv=pds)\n",
    "print(\"[KNN]: El MAE es: {}\".format(mae_knn))\n",
    "print(\"[KNN]: El RMSE es: {}\".format(rmse_knn))\n",
    "print(\"[KNN]: El score es: {}\".format(score))\n",
    "resultados[\"KNN\"] = [mae_knn, rmse_knn, tiempo_knn, score]"
   ]
  },
  {
   "attachments": {},
   "cell_type": "markdown",
   "metadata": {},
   "source": [
    "El segundo es mediante un Árbol de Regresión."
   ]
  },
  {
   "cell_type": "code",
   "execution_count": 67,
   "metadata": {},
   "outputs": [
    {
     "name": "stdout",
     "output_type": "stream",
     "text": [
      "TIEMPO:  0.35450267791748047\n",
      "[ÁRBOL DE REGRESIÓN]: El MAE es: 3293961.0410958906\n",
      "[ÁRBOL DE REGRESIÓN]: El RMSE es: 4859960.42621128\n",
      "[ÁRBOL DE REGRESIÓN]: El score es: [0.63736441]\n"
     ]
    }
   ],
   "source": [
    "# Crear Decision Tree Regressor\n",
    "arbol_regr = DecisionTreeRegressor()\n",
    "# Semilla para poder reproducir los resultados\n",
    "np.random.seed(21)\n",
    "\n",
    "# Entrenamos el modelo con el conjunto de entrenamiento y medimos el tiempo que tarda\n",
    "start = time.time()\n",
    "\n",
    "arbol_regr.fit(X_train_2, y_train_2)\n",
    "\n",
    "end = time.time()\n",
    "tiempo_tree = end - start\n",
    "print(\"TIEMPO: \", tiempo_tree)\n",
    "\n",
    "# Hacemos predicciones en el conjunto de prueba\n",
    "y_test_pred = arbol_regr.predict(X_validation)\n",
    "\n",
    "# Evaluamos el modelo usando MAE y RMSE\n",
    "mae_tree= mean_absolute_error(y_validation, y_test_pred)\n",
    "mse_tree= mean_squared_error(y_validation, y_test_pred)\n",
    "rmse_tree= np.sqrt(mse_tree)\n",
    "score = cross_val_score(arbol_regr, X_train_2, y_train_2, cv=pds)\n",
    "print(\"[ÁRBOL DE REGRESIÓN]: El MAE es: {}\".format(mae_tree))\n",
    "print(\"[ÁRBOL DE REGRESIÓN]: El RMSE es: {}\".format(rmse_tree))\n",
    "print(\"[ÁRBOL DE REGRESIÓN]: El score es: {}\".format(score))\n",
    "resultados[\"Árbol de Regresión\"] = [mae_tree, rmse_tree, tiempo_tree, score]"
   ]
  },
  {
   "attachments": {},
   "cell_type": "markdown",
   "metadata": {},
   "source": [
    "El tercer modelo es la Regresión Lineal"
   ]
  },
  {
   "cell_type": "code",
   "execution_count": 68,
   "metadata": {},
   "outputs": [
    {
     "name": "stdout",
     "output_type": "stream",
     "text": [
      "TIEMPO:  0.06581735610961914\n",
      "[REGRESIÓN LINEAL]: El MAE es: 2510056.9122926663\n",
      "[REGRESIÓN LINEAL]: El RMSE es: 3478654.055395637\n",
      "[REGRESIÓN LINEAL]: El score es: [0.83089383]\n"
     ]
    }
   ],
   "source": [
    "# Creamos Linear Regression\n",
    "linear_regr = LinearRegression()\n",
    "\n",
    "# Semilla para poder reproducir los resultados\n",
    "np.random.seed(21)\n",
    "\n",
    "# Entrenamos el modelo con el conjunto de entrenamiento y medimos el tiempo que tarda\n",
    "start = time.time()\n",
    "\n",
    "linear_regr.fit(X_train_2, y_train_2)\n",
    "\n",
    "end = time.time()\n",
    "tiempo_linear = end - start\n",
    "print(\"TIEMPO: \", tiempo_linear)\n",
    "\n",
    "# Hacemos predicciones en el conjunto de prueba \n",
    "y_test_pred = linear_regr.predict(X_validation)\n",
    "\n",
    "# Evaluamos el modelo usando MAE y RMSE\n",
    "mae_linear = mean_absolute_error(y_validation, y_test_pred)\n",
    "mse_linear = mean_squared_error(y_validation, y_test_pred)\n",
    "rmse_linear = np.sqrt(mse_linear)\n",
    "score = cross_val_score(linear_regr, X_train_2, y_train_2, cv=pds)\n",
    "print(\"[REGRESIÓN LINEAL]: El MAE es: {}\".format(mae_linear))\n",
    "print(\"[REGRESIÓN LINEAL]: El RMSE es: {}\".format(rmse_linear))\n",
    "print(\"[REGRESIÓN LINEAL]: El score es: {}\".format(score))\n",
    "resultados[\"Regresión Lineal\"] = [mae_linear, rmse_linear, tiempo_linear, score]"
   ]
  },
  {
   "attachments": {},
   "cell_type": "markdown",
   "metadata": {},
   "source": [
    "Ahora que hemos creado todos los modelos sin ajuste de parámetros, vamos a imprimir todos los valores obtenidos para poder analizarlos."
   ]
  },
  {
   "cell_type": "code",
   "execution_count": 69,
   "metadata": {},
   "outputs": [
    {
     "name": "stdout",
     "output_type": "stream",
     "text": [
      "[DUMMY REGRESSOR]: El MAE es: 6682629.317305312\n",
      "[DUMMY REGRESSOR]: El RMSE es: 7829253.654709075\n",
      "[DUMMY REGRESSOR]: El score es: [-0.00111056]\n",
      "---------------------------------------------------------------\n",
      "TIEMPO:  0.003628969192504883\n",
      "[KNN]: El MAE es: 2668303.808219178\n",
      "[KNN]: El RMSE es: 3852690.2513246946\n",
      "[KNN]: El score es: [0.73439901]\n",
      "---------------------------------------------------------------\n",
      "TIEMPO:  0.35450267791748047\n",
      "[ÁRBOL DE REGRESIÓN]: El MAE es: 3293961.0410958906\n",
      "[ÁRBOL DE REGRESIÓN]: El RMSE es: 4859960.42621128\n",
      "[ÁRBOL DE REGRESIÓN]: El score es: [0.63736441]\n",
      "---------------------------------------------------------------\n",
      "TIEMPO:  0.06581735610961914\n",
      "[REGRESIÓN LINEAL]: El MAE es: 2510056.9122926663\n",
      "[REGRESIÓN LINEAL]: El RMSE es: 3478654.055395637\n",
      "[REGRESIÓN LINEAL]: El score es: [0.83089383]\n"
     ]
    }
   ],
   "source": [
    "# DUMMY REGRESSOR\n",
    "print(\"[DUMMY REGRESSOR]: El MAE es: {}\".format(resultados[\"Dummy\"][0]))\n",
    "print(\"[DUMMY REGRESSOR]: El RMSE es: {}\".format(resultados[\"Dummy\"][1]))\n",
    "print(\"[DUMMY REGRESSOR]: El score es: {}\".format(resultados[\"Dummy\"][2]))\n",
    "print(\"---------------------------------------------------------------\")\n",
    "# KNN\n",
    "print(\"TIEMPO: \", resultados[\"KNN\"][2])\n",
    "print(\"[KNN]: El MAE es: {}\".format(resultados[\"KNN\"][0]))\n",
    "print(\"[KNN]: El RMSE es: {}\".format(resultados[\"KNN\"][1]))\n",
    "print(\"[KNN]: El score es: {}\".format(resultados[\"KNN\"][3]))\n",
    "print(\"---------------------------------------------------------------\")\n",
    "# ÁRBOL DE REGRESIÓN\n",
    "print(\"TIEMPO: \", resultados[\"Árbol de Regresión\"][2])\n",
    "print(\"[ÁRBOL DE REGRESIÓN]: El MAE es: {}\".format(resultados[\"Árbol de Regresión\"][0]))\n",
    "print(\"[ÁRBOL DE REGRESIÓN]: El RMSE es: {}\".format(resultados[\"Árbol de Regresión\"][1]))\n",
    "print(\"[ÁRBOL DE REGRESIÓN]: El score es: {}\".format(resultados[\"Árbol de Regresión\"][3]))\n",
    "print(\"---------------------------------------------------------------\")\n",
    "# REGRESIÓN LINEAL\n",
    "print(\"TIEMPO: \", resultados[\"Regresión Lineal\"][2])\n",
    "print(\"[REGRESIÓN LINEAL]: El MAE es: {}\".format(resultados[\"Regresión Lineal\"][0]))\n",
    "print(\"[REGRESIÓN LINEAL]: El RMSE es: {}\".format(resultados[\"Regresión Lineal\"][1]))\n",
    "print(\"[REGRESIÓN LINEAL]: El score es: {}\".format(resultados[\"Regresión Lineal\"][3]))"
   ]
  },
  {
   "attachments": {},
   "cell_type": "markdown",
   "metadata": {},
   "source": [
    "Echando un vistazo a los resultados obtenidos podemos ver que los 3 modelos desarrollados son mejores que el Dummy Regressor ya que cuentan con valores considerablemente más bajos que este segundo de MAE y RSME. Al mismo tiempo, es score es mucho mejor en todos ellos comparados con este."
   ]
  },
  {
   "attachments": {},
   "cell_type": "markdown",
   "metadata": {},
   "source": [
    "Ahora debemos ajustar los parámetros de los modelos para intentar mejorarlos. Comenzamos de nuevo con KNN."
   ]
  },
  {
   "cell_type": "code",
   "execution_count": 70,
   "metadata": {},
   "outputs": [],
   "source": [
    "from sklearn.model_selection import GridSearchCV\n",
    "from sklearn.metrics import mean_squared_error"
   ]
  },
  {
   "cell_type": "code",
   "execution_count": 71,
   "metadata": {},
   "outputs": [],
   "source": [
    "# List of the two spaces\n",
    "param_grid = {\n",
    "    'n_neighbors': range(1, 30, 5),\n",
    "    'p': (1, 2),\n",
    "    'leaf_size': range(1, 30, 10),\n",
    "    'weights': ['uniform', 'distance']\n",
    "}\n",
    "\n",
    "# Normalización de los datos\n",
    "scaler = MinMaxScaler()\n",
    "X_train_norm_2 = scaler.fit_transform(X_train_2)\n",
    "X_validation_norm = scaler.transform(X_validation)\n",
    "\n",
    "# Crear KNN model\n",
    "knn_regr = KNeighborsRegressor()\n",
    "np.random.seed(21)\n",
    "\n",
    "grid_search = GridSearchCV(estimator = knn_regr,param_grid = param_grid, cv = pds, scoring = 'neg_mean_squared_error')\n",
    "\n",
    "# Entrenamos el modelo con el conjunto de entrenamiento y medimos el tiempo que tarda\n",
    "grid_search.fit(X_train_norm_2, y_train_2)\n",
    "\n",
    "# Creamos nuevo modelo con los mejores parámetros\n",
    "knn_regr = KNeighborsRegressor(**grid_search.best_params_)\n",
    "\n",
    "start = time.time()\n",
    "\n",
    "knn_regr.fit(X_train_norm_2, y_train_2)\n",
    "\n",
    "end = time.time()\n",
    "tiempo_knn = end - start\n",
    "\n",
    "# Hacemos predicciones en el conjunto de prueba\n",
    "y_test_pred = knn_regr.predict(X_validation_norm)\n",
    "\n",
    "# Evaluamos el modelo usando MAE y RMSE\n",
    "mae_knn= mean_absolute_error(y_validation, y_test_pred)\n",
    "mse_knn= mean_squared_error(y_validation, y_test_pred)\n",
    "rmse_knn= np.sqrt(mse_knn)\n",
    "score = cross_val_score(knn_regr, X_train_2, y_train_2, cv=pds)\n",
    "resultados[\"KNN Modificado\"] = [mae_knn, rmse_knn, tiempo_knn, score]"
   ]
  },
  {
   "cell_type": "code",
   "execution_count": 72,
   "metadata": {},
   "outputs": [
    {
     "name": "stdout",
     "output_type": "stream",
     "text": [
      "[KNN VIEJO]: TIEMPO:  0.003628969192504883\n",
      "[KNN MODIFICADO]: TIEMPO:  0.0010006427764892578\n",
      "\n",
      "[KNN VIEJO]: El MAE es: 2668303.808219178\n",
      "[KNN MODIFICADO]: El MAE es: 2607728.358023526\n",
      "\n",
      "[KNN VIEJO]: El RMSE es: 3852690.2513246946\n",
      "[KNN MODIFICADO]: El RMSE es: 3681062.766322009\n",
      "\n",
      "[KNN VIEJO]: El score es: [0.73439901]\n",
      "[KNN MODIFICADO]: El score es: [0.7763778]\n",
      "\n",
      "-----------------------------Valores óptimos de los hiperparámetros conseguidos-----------------------------------\n"
     ]
    },
    {
     "data": {
      "text/plain": [
       "({'leaf_size': 1, 'n_neighbors': 21, 'p': 1, 'weights': 'distance'},\n",
       " 11825582327258.795)"
      ]
     },
     "execution_count": 72,
     "metadata": {},
     "output_type": "execute_result"
    }
   ],
   "source": [
    "print(\"[KNN VIEJO]: TIEMPO: \", resultados[\"KNN\"][2])\n",
    "print(\"[KNN MODIFICADO]: TIEMPO: \", resultados[\"KNN Modificado\"][2])\n",
    "\n",
    "print(\"\\n[KNN VIEJO]: El MAE es: {}\".format(resultados[\"KNN\"][0]))\n",
    "print(\"[KNN MODIFICADO]: El MAE es: {}\".format(resultados[\"KNN Modificado\"][0]))\n",
    "\n",
    "print(\"\\n[KNN VIEJO]: El RMSE es: {}\".format(resultados[\"KNN\"][1]))\n",
    "print(\"[KNN MODIFICADO]: El RMSE es: {}\".format(resultados[\"KNN Modificado\"][1]))\n",
    "\n",
    "print(\"\\n[KNN VIEJO]: El score es: {}\".format(resultados[\"KNN\"][3]))\n",
    "print(\"[KNN MODIFICADO]: El score es: {}\".format(resultados[\"KNN Modificado\"][3]))\n",
    "\n",
    "print(\"\\n-----------------------------Valores óptimos de los hiperparámetros conseguidos-----------------------------------\")\n",
    "grid_search.best_params_, -grid_search.best_score_"
   ]
  },
  {
   "attachments": {},
   "cell_type": "markdown",
   "metadata": {},
   "source": [
    "Tras la optimización de parámetros del KNN, vemos que los resultados obtenidos son mejores gracias a la alteración de algunos cambios en los que venían por defecto como el \"leaf_size\" que ha cambiado a 1, \"n_neighbors\" que se ha asentado en 21, \"p\" que ahora es 1 y \"weights\" que pasa de \"uniform\" a \"distance."
   ]
  },
  {
   "attachments": {},
   "cell_type": "markdown",
   "metadata": {},
   "source": [
    "Ahora con el Árbol de Regresión."
   ]
  },
  {
   "cell_type": "code",
   "execution_count": 73,
   "metadata": {},
   "outputs": [],
   "source": [
    "# Crear Decision Tree Regressor\n",
    "arbol_regr = DecisionTreeRegressor()\n",
    "# Semilla para poder reproducir los resultados\n",
    "np.random.seed(21)\n",
    "\n",
    "# Creamos un diccionario con los parámetros que vamos a utilizar en la comprobación\n",
    "param_grid = {\n",
    "    'criterion': ['squared_error', 'friedman_mse'],\n",
    "    'max_depth': range(2, 10, 2),\n",
    "    'min_samples_split': range(2, 82, 16)\n",
    "}\n",
    "\n",
    "# Creamos el objeto GridSearchCV\n",
    "grid_search = GridSearchCV(estimator = arbol_regr, param_grid = param_grid, cv = pds, scoring = 'neg_mean_squared_error')\n",
    "\n",
    "# Entrenamos el modelo con el conjunto de entrenamiento y medimos el tiempo que tarda\n",
    "grid_search.fit(X_train_2, y_train_2)\n",
    "\n",
    "# Creamos nuevo modelo con los mejores parámetros\n",
    "tree_regr = DecisionTreeRegressor(**grid_search.best_params_)\n",
    "\n",
    "start = time.time()\n",
    "\n",
    "tree_regr.fit(X_train_2, y_train_2)\n",
    "\n",
    "end = time.time()\n",
    "tiempo_tree = end - start\n",
    "\n",
    "# Hacemos predicciones en el conjunto de prueba \n",
    "y_test_pred = tree_regr.predict(X_validation)\n",
    "\n",
    "# Evaluamos el modelo usando MAE y RMSE\n",
    "mae_tree= mean_absolute_error(y_validation, y_test_pred)\n",
    "mse_tree= mean_squared_error(y_validation, y_test_pred)\n",
    "rmse_tree= np.sqrt(mse_tree)\n",
    "score = cross_val_score(tree_regr, X_train_2, y_train_2, cv=pds)\n",
    "resultados[\"Árbol de Regresión Modificado\"] = [mae_tree, rmse_tree, tiempo_tree, score]"
   ]
  },
  {
   "cell_type": "code",
   "execution_count": 74,
   "metadata": {},
   "outputs": [
    {
     "name": "stdout",
     "output_type": "stream",
     "text": [
      "[ÁRBOL DE REGRESIÓN VIEJO]: TIEMPO: 0.35450267791748047\n",
      "[ÁRBOL DE REGRESIÓN MODIFICADO]: TIEMPO:  0.12790417671203613\n",
      "\n",
      "[ÁRBOL DE REGRESIÓN VIEJO]: El MAE es: 3293961.0410958906\n",
      "[ÁRBOL DE REGRESIÓN MODIFICADO]: El MAE es: 2793832.0623495835\n",
      "\n",
      "[ÁRBOL DE REGRESIÓN VIEJO]: El RMSE es: 4859960.42621128\n",
      "[ÁRBOL DE REGRESIÓN MODIFICADO]: El RMSE es: 4006228.0623056577\n",
      "\n",
      "[ÁRBOL DE REGRESIÓN VIEJO]: El score es: [0.63736441]\n",
      "[ÁRBOL DE REGRESIÓN MODIFICADO]: El score es: [0.76244171]\n",
      "\n",
      "-----------------------------Valores óptimos de los hiperparámetros conseguidos-----------------------------------\n"
     ]
    },
    {
     "data": {
      "text/plain": [
       "({'criterion': 'squared_error', 'max_depth': 6, 'min_samples_split': 50},\n",
       " 14858313401074.723)"
      ]
     },
     "execution_count": 74,
     "metadata": {},
     "output_type": "execute_result"
    }
   ],
   "source": [
    "print(\"[ÁRBOL DE REGRESIÓN VIEJO]: TIEMPO:\", resultados[\"Árbol de Regresión\"][2])\n",
    "print(\"[ÁRBOL DE REGRESIÓN MODIFICADO]: TIEMPO: \", resultados[\"Árbol de Regresión Modificado\"][2])\n",
    "\n",
    "print(\"\\n[ÁRBOL DE REGRESIÓN VIEJO]: El MAE es: {}\".format(resultados[\"Árbol de Regresión\"][0]))\n",
    "print(\"[ÁRBOL DE REGRESIÓN MODIFICADO]: El MAE es: {}\".format(resultados[\"Árbol de Regresión Modificado\"][0]))\n",
    "\n",
    "print(\"\\n[ÁRBOL DE REGRESIÓN VIEJO]: El RMSE es: {}\".format(resultados[\"Árbol de Regresión\"][1]))\n",
    "print(\"[ÁRBOL DE REGRESIÓN MODIFICADO]: El RMSE es: {}\".format(resultados[\"Árbol de Regresión Modificado\"][1]))\n",
    "\n",
    "print(\"\\n[ÁRBOL DE REGRESIÓN VIEJO]: El score es: {}\".format(resultados[\"Árbol de Regresión\"][3]))\n",
    "print(\"[ÁRBOL DE REGRESIÓN MODIFICADO]: El score es: {}\".format(resultados[\"Árbol de Regresión Modificado\"][3]))\n",
    "\n",
    "print(\"\\n-----------------------------Valores óptimos de los hiperparámetros conseguidos-----------------------------------\")\n",
    "grid_search.best_params_, -grid_search.best_score_"
   ]
  },
  {
   "attachments": {},
   "cell_type": "markdown",
   "metadata": {},
   "source": [
    "Podemos ver mejoras en ambas medidas (MAE y RMSE) gracias a una máxima profundidad de 6 y un mínimo de 66 para separar un nodo interno. El criterio de evaluación se ha mantenido por defecto (squared_error)."
   ]
  },
  {
   "attachments": {},
   "cell_type": "markdown",
   "metadata": {},
   "source": [
    "Por último ajustamos el modelo de Regresión Lineal"
   ]
  },
  {
   "cell_type": "code",
   "execution_count": 75,
   "metadata": {},
   "outputs": [],
   "source": [
    "# Creamos Linear Regression\n",
    "linear_regr = LinearRegression()\n",
    "\n",
    "# Semilla para poder reproducir los resultados\n",
    "np.random.seed(21)\n",
    "\n",
    "param_grid = {\n",
    "    'positive': [True, False],\n",
    "    'fit_intercept': [True, False],\n",
    "    'copy_X': [True, False]\n",
    "}\n",
    "\n",
    "# Creamos el objeto GridSearchCV\n",
    "grid_search = GridSearchCV(estimator = linear_regr, param_grid = param_grid, cv = pds, scoring = 'neg_mean_squared_error')\n",
    "\n",
    "# Entrenamos el modelo con el conjunto de entrenamiento y medimos el tiempo que tarda\n",
    "grid_search.fit(X_train_2, y_train_2)\n",
    "\n",
    "# Creamos nuevo modelo con los mejores parámetros\n",
    "linear_regr = LinearRegression(**grid_search.best_params_)\n",
    "\n",
    "start = time.time()\n",
    "\n",
    "linear_regr.fit(X_train_2, y_train_2)\n",
    "\n",
    "end = time.time()\n",
    "tiempo_linear = end - start\n",
    "\n",
    "# Hacemos predicciones en el conjunto de prueba \n",
    "y_test_pred = linear_regr.predict(X_validation)\n",
    "\n",
    "# Evaluamos el modelo usando MAE y RMSE\n",
    "mae_linear = mean_absolute_error(y_validation, y_test_pred)\n",
    "mse_linear = mean_squared_error(y_validation, y_test_pred)\n",
    "rmse_linear = np.sqrt(mse_linear)\n",
    "score = cross_val_score(tree_regr, X_train_2, y_train_2, cv=pds)\n",
    "resultados[\"Regresión Lineal Modificado\"] = [mae_linear, rmse_linear, tiempo_linear, score]\n"
   ]
  },
  {
   "cell_type": "code",
   "execution_count": 76,
   "metadata": {},
   "outputs": [
    {
     "name": "stdout",
     "output_type": "stream",
     "text": [
      "[REGRESIÓN LINEAL VIEJO]: TIEMPO:  0.029970407485961914\n",
      "[REGRESIÓN LINEAL MODIFICADO]: TIEMPO:  0.029970407485961914\n",
      "\n",
      "[REGRESIÓN LINEAL VIEJO]: El MAE es: 2510056.9122926663\n",
      "[REGRESIÓN LINEAL MODIFICADO]: El MAE es: 2508531.8528142124\n",
      "\n",
      "[REGRESIÓN LINEAL VIEJO]: El RMSE es: 3478654.055395637\n",
      "[REGRESIÓN LINEAL MODIFICADO]: El RMSE es: 3480428.695809931\n",
      "\n",
      "[REGRESIÓN LINEAL VIEJO]: El score es: [0.83089383]\n",
      "[REGRESIÓN LINEAL MODIFICADO]: El score es: [0.76244171]\n",
      "\n",
      "-----------------------------Valores óptimos de los hiperparámetros conseguidos-----------------------------------\n"
     ]
    },
    {
     "data": {
      "text/plain": [
       "({'copy_X': True, 'fit_intercept': False, 'positive': False},\n",
       " 10720634471372.705)"
      ]
     },
     "execution_count": 76,
     "metadata": {},
     "output_type": "execute_result"
    }
   ],
   "source": [
    "print(\"[REGRESIÓN LINEAL VIEJO]: TIEMPO: \", resultados[\"Regresión Lineal Modificado\"][2])\n",
    "print(\"[REGRESIÓN LINEAL MODIFICADO]: TIEMPO: \", resultados[\"Regresión Lineal Modificado\"][2])\n",
    "\n",
    "print(\"\\n[REGRESIÓN LINEAL VIEJO]: El MAE es: {}\".format(resultados[\"Regresión Lineal\"][0]))\n",
    "print(\"[REGRESIÓN LINEAL MODIFICADO]: El MAE es: {}\".format(resultados[\"Regresión Lineal Modificado\"][0]))\n",
    "\n",
    "print(\"\\n[REGRESIÓN LINEAL VIEJO]: El RMSE es: {}\".format(resultados[\"Regresión Lineal\"][1]))\n",
    "print(\"[REGRESIÓN LINEAL MODIFICADO]: El RMSE es: {}\".format(resultados[\"Regresión Lineal Modificado\"][1]))\n",
    "\n",
    "print(\"\\n[REGRESIÓN LINEAL VIEJO]: El score es: {}\".format(resultados[\"Regresión Lineal\"][3]))\n",
    "print(\"[REGRESIÓN LINEAL MODIFICADO]: El score es: {}\".format(resultados[\"Regresión Lineal Modificado\"][3]))\n",
    "\n",
    "print(\"\\n-----------------------------Valores óptimos de los hiperparámetros conseguidos-----------------------------------\")\n",
    "grid_search.best_params_, -grid_search.best_score_"
   ]
  },
  {
   "attachments": {},
   "cell_type": "markdown",
   "metadata": {},
   "source": [
    "Como podemos ver, este modelo ya era óptimo de por sí, ya que a pesar de que GridSearch ha cambiado uno de los hiperparámetros que venían por defecto, este ha dado peores resultados que el original.\n",
    "\n",
    "Ahora imprimimos todos los valores nuevos juntos."
   ]
  },
  {
   "cell_type": "code",
   "execution_count": 77,
   "metadata": {},
   "outputs": [
    {
     "name": "stdout",
     "output_type": "stream",
     "text": [
      "[KNN MODIFICADO]: TIEMPO:  0.0010006427764892578\n",
      "[KNN MODIFICADO]: El MAE es: 2607728.358023526\n",
      "[KNN MODIFICADO]: El RMSE es: 3681062.766322009\n",
      "[KNN MODIFICADO]: El score es: [0.7763778]\n",
      "---------------------------------------------------------------\n",
      "[ÁRBOL DE REGRESIÓN MODIFICADO]: TIEMPO:  0.12790417671203613\n",
      "[ÁRBOL DE REGRESIÓN MODIFICADO]: El MAE es: 2793832.0623495835\n",
      "[ÁRBOL DE REGRESIÓN MODIFICADO]: El RMSE es: 4006228.0623056577\n",
      "[ÁRBOL DE REGRESIÓN MODIFICADO]: El score es: [0.76244171]\n",
      "---------------------------------------------------------------\n",
      "[REGRESIÓN LINEAL VIEJO]: TIEMPO:  0.029970407485961914\n",
      "[REGRESIÓN LINEAL VIEJO]: El MAE es: 2510056.9122926663\n",
      "[REGRESIÓN LINEAL VIEJO]: El RMSE es: 3478654.055395637\n",
      "[REGRESIÓN LINEAL VIEJO]: El score es: [0.83089383]\n"
     ]
    }
   ],
   "source": [
    "# KNN\n",
    "print(\"[KNN MODIFICADO]: TIEMPO: \", resultados[\"KNN Modificado\"][2])\n",
    "print(\"[KNN MODIFICADO]: El MAE es: {}\".format(resultados[\"KNN Modificado\"][0]))\n",
    "print(\"[KNN MODIFICADO]: El RMSE es: {}\".format(resultados[\"KNN Modificado\"][1]))\n",
    "print(\"[KNN MODIFICADO]: El score es: {}\".format(resultados[\"KNN Modificado\"][3]))\n",
    "print(\"---------------------------------------------------------------\")\n",
    "# ÁRBOL DE REGRESIÓN\n",
    "print(\"[ÁRBOL DE REGRESIÓN MODIFICADO]: TIEMPO: \", resultados[\"Árbol de Regresión Modificado\"][2])\n",
    "print(\"[ÁRBOL DE REGRESIÓN MODIFICADO]: El MAE es: {}\".format(resultados[\"Árbol de Regresión Modificado\"][0]))\n",
    "print(\"[ÁRBOL DE REGRESIÓN MODIFICADO]: El RMSE es: {}\".format(resultados[\"Árbol de Regresión Modificado\"][1]))\n",
    "print(\"[ÁRBOL DE REGRESIÓN MODIFICADO]: El score es: {}\".format(resultados[\"Árbol de Regresión Modificado\"][3]))\n",
    "print(\"---------------------------------------------------------------\")\n",
    "# REGRESIÓN LINEAL\n",
    "print(\"[REGRESIÓN LINEAL VIEJO]: TIEMPO: \", resultados[\"Regresión Lineal Modificado\"][2])\n",
    "print(\"[REGRESIÓN LINEAL VIEJO]: El MAE es: {}\".format(resultados[\"Regresión Lineal\"][0]))\n",
    "print(\"[REGRESIÓN LINEAL VIEJO]: El RMSE es: {}\".format(resultados[\"Regresión Lineal\"][1]))\n",
    "print(\"[REGRESIÓN LINEAL VIEJO]: El score es: {}\".format(resultados[\"Regresión Lineal\"][3]))"
   ]
  },
  {
   "attachments": {},
   "cell_type": "markdown",
   "metadata": {},
   "source": [
    "Realizada la optimización de los hiperparámetros de los distintos modelos, hemos llegado a una serie de conclusiones:\n",
    "\n",
    "- El mejor método es el de Regresión Lineal ya que los valores de las métricas de evaluación RMSE y MAE son menores respecto a los otros modelos y el score es mayor.\n",
    "\n",
    "- Si nos fijamos en el tiempo que tarda cada uno está claro que el KNN es el caso más rápido con una diferencia muy grande en comparación al árbol de regresión. Sin embargo, el Árbol de Regresión es el único que ha cambiado su tiempo de entrenamiento y no solo ha cambiado sino que ha disminuido notablemente a pesar de que siga siendo el más lento con diferencia. Parece ser que en este método, los hiperparámetros que se escojan juegan un papel muy crucial en el tiempo que se necesitará.\n",
    "\n",
    "- Si bien todos los valores eran en un inicio bastante mejores que los obtenidos con el Dummy Regressor implementado como punto de partida, podemos ver también mejoras en el caso del KNN y el Árbol de Regresión tras la optimización de parámetros gracias a que el GridSearch consiguió encontrar algunos cambios que podíamos realizar para generar un modelo mejor distinto al que se generaba por defecto. Sin embargo, si nos fijamos en el que hemos seleccionado como mejor método por ser el más óptimo en cuanto a valores de MAE y RMSE, nos encontramos con que los hiperparámetros que la librería usa por defecto son ya los óptimos algo que ha provocado que no se haya producido ningún cambio en este. Esto no tiene que ser necesariamente malo sino que solo indica que nuestro mejor caso ya estaba siendo utilizado.\n",
    "\n",
    "- Como mencionado anteriormente, salvo en el de Regresión Lineal, todos los métodos han conseguido encontrar un set de hiperparámetros más ideal que el que venía por defecto."
   ]
  },
  {
   "attachments": {},
   "cell_type": "markdown",
   "metadata": {},
   "source": [
    "Ahora se pide que disminuyamos la dimensionalidad del problema. Para ello usaremos un Pipeline con un selector."
   ]
  },
  {
   "cell_type": "code",
   "execution_count": 78,
   "metadata": {},
   "outputs": [],
   "source": [
    "from sklearn.pipeline import Pipeline\n",
    "from sklearn.preprocessing import StandardScaler\n",
    "from sklearn.feature_selection import SelectKBest, f_regression\n",
    "from sklearn.model_selection import KFold"
   ]
  },
  {
   "attachments": {},
   "cell_type": "markdown",
   "metadata": {},
   "source": [
    "Primero vamos a usar Gridsearch para obtener el número de atributos óptimos del modelo. \n",
    "\n",
    "Lo ideal sería hacerlo con el conjunto X_train. Sin embargo, esto nos obligaría a usar X_test lo cual no está permitido. Por ello, usaremos el conjunto más reducido como hemos estado usando para los modelos con el riesgo de que se eliminen más atributos de los deseados."
   ]
  },
  {
   "cell_type": "code",
   "execution_count": 79,
   "metadata": {},
   "outputs": [
    {
     "data": {
      "text/plain": [
       "{'select__k': 44}"
      ]
     },
     "execution_count": 79,
     "metadata": {},
     "output_type": "execute_result"
    }
   ],
   "source": [
    "# Creamos el selector, scaler y el modelo\n",
    "selector = SelectKBest(f_regression)\n",
    "scaler = StandardScaler()\n",
    "knn_regr = KNeighborsRegressor()\n",
    "\n",
    "# Creamos el pipeline\n",
    "pipe_regr = Pipeline([\n",
    "  ('scale', scaler),\n",
    "  ('select', selector),\n",
    "  ('knn', knn_regr)                     \n",
    "])\n",
    "\n",
    "# Creamos el grid de parámetros\n",
    "param_grid = {'select__k': list(range(1,75))}\n",
    "\n",
    "# Creamos el objeto GridSearchCV\n",
    "opt_atr = GridSearchCV(pipe_regr, param_grid, scoring=\"neg_mean_squared_error\", cv=pds)\n",
    "                               \n",
    "# Entrenamos el modelo y mostramos el número de features seleccionadas como óptimas   \n",
    "opt_atr.fit(X_train_norm_2, y_train_2)\n",
    "opt_atr.best_params_"
   ]
  },
  {
   "attachments": {},
   "cell_type": "markdown",
   "metadata": {},
   "source": [
    "Conocidos el número óptimo de atributos, obtenemos los 44 atributos más importantes y su respectivo número de columna en los datos"
   ]
  },
  {
   "cell_type": "code",
   "execution_count": 80,
   "metadata": {},
   "outputs": [
    {
     "data": {
      "text/html": [
       "<style>#sk-container-id-2 {color: black;background-color: white;}#sk-container-id-2 pre{padding: 0;}#sk-container-id-2 div.sk-toggleable {background-color: white;}#sk-container-id-2 label.sk-toggleable__label {cursor: pointer;display: block;width: 100%;margin-bottom: 0;padding: 0.3em;box-sizing: border-box;text-align: center;}#sk-container-id-2 label.sk-toggleable__label-arrow:before {content: \"▸\";float: left;margin-right: 0.25em;color: #696969;}#sk-container-id-2 label.sk-toggleable__label-arrow:hover:before {color: black;}#sk-container-id-2 div.sk-estimator:hover label.sk-toggleable__label-arrow:before {color: black;}#sk-container-id-2 div.sk-toggleable__content {max-height: 0;max-width: 0;overflow: hidden;text-align: left;background-color: #f0f8ff;}#sk-container-id-2 div.sk-toggleable__content pre {margin: 0.2em;color: black;border-radius: 0.25em;background-color: #f0f8ff;}#sk-container-id-2 input.sk-toggleable__control:checked~div.sk-toggleable__content {max-height: 200px;max-width: 100%;overflow: auto;}#sk-container-id-2 input.sk-toggleable__control:checked~label.sk-toggleable__label-arrow:before {content: \"▾\";}#sk-container-id-2 div.sk-estimator input.sk-toggleable__control:checked~label.sk-toggleable__label {background-color: #d4ebff;}#sk-container-id-2 div.sk-label input.sk-toggleable__control:checked~label.sk-toggleable__label {background-color: #d4ebff;}#sk-container-id-2 input.sk-hidden--visually {border: 0;clip: rect(1px 1px 1px 1px);clip: rect(1px, 1px, 1px, 1px);height: 1px;margin: -1px;overflow: hidden;padding: 0;position: absolute;width: 1px;}#sk-container-id-2 div.sk-estimator {font-family: monospace;background-color: #f0f8ff;border: 1px dotted black;border-radius: 0.25em;box-sizing: border-box;margin-bottom: 0.5em;}#sk-container-id-2 div.sk-estimator:hover {background-color: #d4ebff;}#sk-container-id-2 div.sk-parallel-item::after {content: \"\";width: 100%;border-bottom: 1px solid gray;flex-grow: 1;}#sk-container-id-2 div.sk-label:hover label.sk-toggleable__label {background-color: #d4ebff;}#sk-container-id-2 div.sk-serial::before {content: \"\";position: absolute;border-left: 1px solid gray;box-sizing: border-box;top: 0;bottom: 0;left: 50%;z-index: 0;}#sk-container-id-2 div.sk-serial {display: flex;flex-direction: column;align-items: center;background-color: white;padding-right: 0.2em;padding-left: 0.2em;position: relative;}#sk-container-id-2 div.sk-item {position: relative;z-index: 1;}#sk-container-id-2 div.sk-parallel {display: flex;align-items: stretch;justify-content: center;background-color: white;position: relative;}#sk-container-id-2 div.sk-item::before, #sk-container-id-2 div.sk-parallel-item::before {content: \"\";position: absolute;border-left: 1px solid gray;box-sizing: border-box;top: 0;bottom: 0;left: 50%;z-index: -1;}#sk-container-id-2 div.sk-parallel-item {display: flex;flex-direction: column;z-index: 1;position: relative;background-color: white;}#sk-container-id-2 div.sk-parallel-item:first-child::after {align-self: flex-end;width: 50%;}#sk-container-id-2 div.sk-parallel-item:last-child::after {align-self: flex-start;width: 50%;}#sk-container-id-2 div.sk-parallel-item:only-child::after {width: 0;}#sk-container-id-2 div.sk-dashed-wrapped {border: 1px dashed gray;margin: 0 0.4em 0.5em 0.4em;box-sizing: border-box;padding-bottom: 0.4em;background-color: white;}#sk-container-id-2 div.sk-label label {font-family: monospace;font-weight: bold;display: inline-block;line-height: 1.2em;}#sk-container-id-2 div.sk-label-container {text-align: center;}#sk-container-id-2 div.sk-container {/* jupyter's `normalize.less` sets `[hidden] { display: none; }` but bootstrap.min.css set `[hidden] { display: none !important; }` so we also need the `!important` here to be able to override the default hidden behavior on the sphinx rendered scikit-learn.org. See: https://github.com/scikit-learn/scikit-learn/issues/21755 */display: inline-block !important;position: relative;}#sk-container-id-2 div.sk-text-repr-fallback {display: none;}</style><div id=\"sk-container-id-2\" class=\"sk-top-container\"><div class=\"sk-text-repr-fallback\"><pre>Pipeline(steps=[(&#x27;scale&#x27;, StandardScaler()),\n",
       "                (&#x27;select&#x27;,\n",
       "                 SelectKBest(k=44,\n",
       "                             score_func=&lt;function f_regression at 0x000001EB64CF1430&gt;)),\n",
       "                (&#x27;knn&#x27;, KNeighborsRegressor())])</pre><b>In a Jupyter environment, please rerun this cell to show the HTML representation or trust the notebook. <br />On GitHub, the HTML representation is unable to render, please try loading this page with nbviewer.org.</b></div><div class=\"sk-container\" hidden><div class=\"sk-item sk-dashed-wrapped\"><div class=\"sk-label-container\"><div class=\"sk-label sk-toggleable\"><input class=\"sk-toggleable__control sk-hidden--visually\" id=\"sk-estimator-id-5\" type=\"checkbox\" ><label for=\"sk-estimator-id-5\" class=\"sk-toggleable__label sk-toggleable__label-arrow\">Pipeline</label><div class=\"sk-toggleable__content\"><pre>Pipeline(steps=[(&#x27;scale&#x27;, StandardScaler()),\n",
       "                (&#x27;select&#x27;,\n",
       "                 SelectKBest(k=44,\n",
       "                             score_func=&lt;function f_regression at 0x000001EB64CF1430&gt;)),\n",
       "                (&#x27;knn&#x27;, KNeighborsRegressor())])</pre></div></div></div><div class=\"sk-serial\"><div class=\"sk-item\"><div class=\"sk-estimator sk-toggleable\"><input class=\"sk-toggleable__control sk-hidden--visually\" id=\"sk-estimator-id-6\" type=\"checkbox\" ><label for=\"sk-estimator-id-6\" class=\"sk-toggleable__label sk-toggleable__label-arrow\">StandardScaler</label><div class=\"sk-toggleable__content\"><pre>StandardScaler()</pre></div></div></div><div class=\"sk-item\"><div class=\"sk-estimator sk-toggleable\"><input class=\"sk-toggleable__control sk-hidden--visually\" id=\"sk-estimator-id-7\" type=\"checkbox\" ><label for=\"sk-estimator-id-7\" class=\"sk-toggleable__label sk-toggleable__label-arrow\">SelectKBest</label><div class=\"sk-toggleable__content\"><pre>SelectKBest(k=44, score_func=&lt;function f_regression at 0x000001EB64CF1430&gt;)</pre></div></div></div><div class=\"sk-item\"><div class=\"sk-estimator sk-toggleable\"><input class=\"sk-toggleable__control sk-hidden--visually\" id=\"sk-estimator-id-8\" type=\"checkbox\" ><label for=\"sk-estimator-id-8\" class=\"sk-toggleable__label sk-toggleable__label-arrow\">KNeighborsRegressor</label><div class=\"sk-toggleable__content\"><pre>KNeighborsRegressor()</pre></div></div></div></div></div></div></div>"
      ],
      "text/plain": [
       "Pipeline(steps=[('scale', StandardScaler()),\n",
       "                ('select',\n",
       "                 SelectKBest(k=44,\n",
       "                             score_func=<function f_regression at 0x000001EB64CF1430>)),\n",
       "                ('knn', KNeighborsRegressor())])"
      ]
     },
     "execution_count": 80,
     "metadata": {},
     "output_type": "execute_result"
    }
   ],
   "source": [
    "# Se eligen los 44 mejores atributos\n",
    "selector = SelectKBest(f_regression, k=44)\n",
    "scaler = StandardScaler()\n",
    "knn_regr = KNeighborsRegressor()\n",
    "\n",
    "# Creamos el pipeline\n",
    "pipe_regr = Pipeline([\n",
    "  ('scale', scaler),\n",
    "  ('select', selector),\n",
    "  ('knn', knn_regr)                     \n",
    "])\n",
    "\n",
    "#Entrenamos el modelo y se muestran los resultados\n",
    "pipe_regr.fit(X_train_norm_2,y_train_2)"
   ]
  },
  {
   "cell_type": "code",
   "execution_count": 81,
   "metadata": {},
   "outputs": [
    {
     "name": "stdout",
     "output_type": "stream",
     "text": [
      "Atributos seleccionados:\n",
      "[False False False False False False False False False False False  True\n",
      "  True  True  True False False False False False False False False False\n",
      " False False  True  True  True  True False False  True False False False\n",
      " False  True False False  True  True  True  True  True  True  True  True\n",
      "  True  True  True  True  True  True  True  True  True  True  True  True\n",
      "  True  True  True  True  True  True  True  True  True  True False  True\n",
      "  True  True  True]\n",
      "----------------------------------------------------------------------------------\n",
      "Posición de los atributos en la tabla\n",
      "(array([11, 12, 13, 14, 26, 27, 28, 29, 32, 37, 40, 41, 42, 43, 44, 45, 46,\n",
      "       47, 48, 49, 50, 51, 52, 53, 54, 55, 56, 57, 58, 59, 60, 61, 62, 63,\n",
      "       64, 65, 66, 67, 68, 69, 71, 72, 73, 74], dtype=int64),)\n",
      "----------------------------------------------------------------------------------\n",
      "Los nombres de los atributos son:\n",
      "['dswrf_s2_1', 'dswrf_s3_1', 'dswrf_s4_1', 'dswrf_s5_1', 'spfh_2m2_1', 'spfh_2m3_1', 'spfh_2m4_1', 'spfh_2m5_1', 'tcdc_ea3_1', 'tcolc_e3_1', 'tmax_2m1_1', 'tmax_2m2_1', 'tmax_2m3_1', 'tmax_2m4_1', 'tmax_2m5_1', 'tmin_2m1_1', 'tmin_2m2_1', 'tmin_2m3_1', 'tmin_2m4_1', 'tmin_2m5_1', 'tmp_2m_1_1', 'tmp_2m_2_1', 'tmp_2m_3_1', 'tmp_2m_4_1', 'tmp_2m_5_1', 'tmp_sfc1_1', 'tmp_sfc2_1', 'tmp_sfc3_1', 'tmp_sfc4_1', 'tmp_sfc5_1', 'ulwrf_s1_1', 'ulwrf_s2_1', 'ulwrf_s3_1', 'ulwrf_s4_1', 'ulwrf_s5_1', 'ulwrf_t1_1', 'ulwrf_t2_1', 'ulwrf_t3_1', 'ulwrf_t4_1', 'ulwrf_t5_1', 'uswrf_s2_1', 'uswrf_s3_1', 'uswrf_s4_1', 'uswrf_s5_1']\n"
     ]
    }
   ],
   "source": [
    "# Imprime si el atributo ha sido seleccionado o no con True o False\n",
    "print(\"Atributos seleccionados:\")\n",
    "print(pipe_regr.named_steps['select'].get_support())\n",
    "print(\"----------------------------------------------------------------------------------\")\n",
    "\n",
    "# Posición atributos\n",
    "print(\"Posición de los atributos en la tabla\")\n",
    "print(np.where(pipe_regr.named_steps['select'].get_support()))\n",
    "print(\"----------------------------------------------------------------------------------\")\n",
    "\n",
    "# Nombres atributos\n",
    "print(\"Los nombres de los atributos son:\")\n",
    "atr = selector.get_support()\n",
    "nombres_atributos = np.array(list(X_train.columns))[atr].tolist()\n",
    "print(nombres_atributos)\n"
   ]
  },
  {
   "attachments": {},
   "cell_type": "markdown",
   "metadata": {},
   "source": [
    "Como podemos ver, se seleccionan los 44 atributos que son significantes para el modelo. Ahora mostramos en un gráfico el MSE de cada variable."
   ]
  },
  {
   "cell_type": "code",
   "execution_count": 82,
   "metadata": {},
   "outputs": [
    {
     "data": {
      "image/png": "[encoded data removed]",
      "text/plain": [
       "<Figure size 640x480 with 1 Axes>"
      ]
     },
     "metadata": {},
     "output_type": "display_data"
    }
   ],
   "source": [
    "plt.plot(opt_atr.cv_results_['param_select__k'].data, -opt_atr.cv_results_['mean_test_score'])\n",
    "plt.ylabel('RMSE')\n",
    "plt.xlabel('Number of features')\n",
    "plt.show()"
   ]
  },
  {
   "attachments": {},
   "cell_type": "markdown",
   "metadata": {},
   "source": [
    "Por último valoramos el nuevo modelo"
   ]
  },
  {
   "cell_type": "code",
   "execution_count": 83,
   "metadata": {},
   "outputs": [
    {
     "name": "stdout",
     "output_type": "stream",
     "text": [
      "[MAE resultado de la evaluación]: 2763924.5424657534\n",
      "[RMSE resultado de la evaluación]: 3954718.9288574685\n",
      "[Score resultado de la evaluación]: [0.7990165]\n"
     ]
    }
   ],
   "source": [
    "from sklearn.metrics import mean_squared_error\n",
    "\n",
    "predictions_test = pipe_regr.predict(X_validation_norm)\n",
    "mae_result = mean_absolute_error(y_validation, predictions_test)\n",
    "mse_result = mean_squared_error(y_validation, predictions_test)\n",
    "rmse_result = np.sqrt(mse_result)\n",
    "score_result = cross_val_score(pipe_regr, X_train_norm_2, y_train_2, cv=pds)\n",
    "print(\"[MAE resultado de la evaluación]: {}\".format(mae_result))\n",
    "print(\"[RMSE resultado de la evaluación]: {}\".format(rmse_result))\n",
    "print(\"[Score resultado de la evaluación]: {}\".format(score_result))"
   ]
  },
  {
   "attachments": {},
   "cell_type": "markdown",
   "metadata": {},
   "source": [
    "Hemos realizado una reducción del número de atributos para disminuir la dimensionalidad del problema a través del método HPO y se han conseguido mejorar los resultados teniendo en cuenta el score por lo que sí es posible disminuir la dimensionalidad del problema incluso mejorando resultados."
   ]
  },
  {
   "attachments": {},
   "cell_type": "markdown",
   "metadata": {},
   "source": [
    "Ahora utilizaremos métodos avanzados para nuestro modelo y seguiremos el mismo proceso que con los 3 anteriores.\n",
    "\n",
    "El primero es SVM para el cual debemos importar SVR (ya que estamos tratando con un problema de regresión)"
   ]
  },
  {
   "cell_type": "code",
   "execution_count": 84,
   "metadata": {},
   "outputs": [],
   "source": [
    "from sklearn.svm import SVR\n",
    "from sklearn.ensemble import RandomForestRegressor"
   ]
  },
  {
   "attachments": {},
   "cell_type": "markdown",
   "metadata": {},
   "source": [
    "Se evalúa el modelo SVM con sus hiperparámetros por omisión"
   ]
  },
  {
   "cell_type": "code",
   "execution_count": 85,
   "metadata": {},
   "outputs": [
    {
     "name": "stdout",
     "output_type": "stream",
     "text": [
      "TIEMPO:  1.1499919891357422\n",
      "[SVM]: El MAE es: 6442580.937318777\n",
      "[SVM]: El RMSE es: 7638961.131134311\n",
      "[SVM]: El score es: [-0.00600222]\n"
     ]
    }
   ],
   "source": [
    "# Creamos el SVR\n",
    "svm_regr = SVR()\n",
    "\n",
    "np.random.seed(21)\n",
    "\n",
    "# Entrenamos el modelo y medimos el tiempo\n",
    "start = time.time()\n",
    "\n",
    "svm_regr.fit(X_train_2, y_train_2)\n",
    "\n",
    "end = time.time()\n",
    "tiempo_svm = end - start\n",
    "\n",
    "# Hacemos las predicciones\n",
    "y_test_pred = svm_regr.predict(X_validation)\n",
    "\n",
    "# Calculamos los errores\n",
    "mae_svm = mean_absolute_error(y_validation, y_test_pred)\n",
    "mse_svm = mean_squared_error(y_validation, y_test_pred)\n",
    "rmse_svm = np.sqrt(mse_svm)\n",
    "score = cross_val_score(svm_regr, X_train_2, y_train_2, cv=pds)\n",
    "resultados[\"SVM\"] = [mae_svm, rmse_svm, tiempo_svm, score]\n",
    "\n",
    "# Imprimimos los resultados\n",
    "print(\"TIEMPO: \", resultados[\"SVM\"][2])\n",
    "print(\"[SVM]: El MAE es: {}\".format(resultados[\"SVM\"][0]))\n",
    "print(\"[SVM]: El RMSE es: {}\".format(resultados[\"SVM\"][1]))\n",
    "print(\"[SVM]: El score es: {}\".format(resultados[\"SVM\"][3]))"
   ]
  },
  {
   "attachments": {},
   "cell_type": "markdown",
   "metadata": {},
   "source": [
    "Se realiza el ajuste de hiperparámetros para su optimización"
   ]
  },
  {
   "cell_type": "code",
   "execution_count": 86,
   "metadata": {},
   "outputs": [
    {
     "data": {
      "text/plain": [
       "({'C': 10, 'gamma': 0.01, 'kernel': 'linear'}, -11834209491881.617)"
      ]
     },
     "execution_count": 86,
     "metadata": {},
     "output_type": "execute_result"
    }
   ],
   "source": [
    "# Creamos el SVR\n",
    "svm_regr = SVR()\n",
    "\n",
    "# Parámetros a probar\n",
    "param_grid = {'C': [0.1, 10, 100],\n",
    "              'gamma': [0.01, 0.1],\n",
    "              'kernel': ['rbf','linear']\n",
    "              } \n",
    "\n",
    "# Creamos el GridSearchCV\n",
    "grid_search = GridSearchCV(estimator = svm_regr, param_grid = param_grid, cv = pds, scoring = 'neg_mean_squared_error', n_jobs = -1)\n",
    "\n",
    "# Entrenamos el modelo\n",
    "np.random.seed(21)\n",
    "grid_search.fit(X_train_2, y_train_2)\n",
    "\n",
    "grid_search.best_params_, grid_search.best_score_"
   ]
  },
  {
   "attachments": {},
   "cell_type": "markdown",
   "metadata": {},
   "source": [
    "Tras encontrar los mejores valores para los parámetros, creamos un nuevo modelo con estos valores y medimos de nuevo las métricas evaluables"
   ]
  },
  {
   "cell_type": "code",
   "execution_count": 87,
   "metadata": {},
   "outputs": [
    {
     "name": "stdout",
     "output_type": "stream",
     "text": [
      "TIEMPO: 1.482239007949829\n",
      "[SVM MODIFICADO]: El MAE es: 2418841.9204970575\n",
      "[SVM MODIFICADO]: El RSME es: 3685903.29729186\n",
      "[SVM MODIFICADO]: El score es: [0.8137497]\n"
     ]
    }
   ],
   "source": [
    "# Creamos nuevo modelo con los mejores parámetros\n",
    "svm_regr = SVR(**grid_search.best_params_)\n",
    "\n",
    "# Entrenamos el modelo y medimos el tiempo\n",
    "start = time.time()\n",
    "\n",
    "svm_regr.fit(X_train_2, y_train_2)\n",
    "\n",
    "end = time.time()\n",
    "tiempo_svm = end - start\n",
    "\n",
    "# Hacemos las predicciones\n",
    "y_test_pred = svm_regr.predict(X_validation)\n",
    "\n",
    "# Calculamos los errores\n",
    "mae_svm = mean_absolute_error(y_validation, y_test_pred)\n",
    "mse_svm = mean_squared_error(y_validation, y_test_pred)\n",
    "rmse_svm = np.sqrt(mse_svm)\n",
    "score = cross_val_score(svm_regr, X_train_2, y_train_2, cv=pds)\n",
    "resultados[\"SVM Modificado\"] = [mae_svm, rmse_svm, tiempo_svm, score]\n",
    "\n",
    "# Imprimimos los resultados\n",
    "print(\"TIEMPO: {}\".format(resultados['SVM Modificado'][2]))\n",
    "print(\"[SVM MODIFICADO]: El MAE es: {}\".format(resultados['SVM Modificado'][0]))\n",
    "print(\"[SVM MODIFICADO]: El RSME es: {}\".format(resultados['SVM Modificado'][1]))\n",
    "print(\"[SVM MODIFICADO]: El score es: {}\".format(resultados['SVM Modificado'][3]))"
   ]
  },
  {
   "cell_type": "code",
   "execution_count": 88,
   "metadata": {},
   "outputs": [
    {
     "name": "stdout",
     "output_type": "stream",
     "text": [
      "TIEMPO SVM:  1.1499919891357422\n",
      "[SVM]: El MAE es: 6442580.937318777\n",
      "[SVM]: El RMSE es: 7638961.131134311\n",
      "[SVM]: El score es: [-0.00600222]\n",
      "---------------------------------------------------------------\n",
      "TIEMPO SVM MODIFICADO:  1.482239007949829\n",
      "[SVM MODIFICADO]: El MAE es: 2418841.9204970575\n",
      "[SVM MODIFICADO]: El RMSE es: 3685903.29729186\n",
      "[SVM MODIFICADO]: El score es: [0.8137497]\n"
     ]
    }
   ],
   "source": [
    "# SVM\n",
    "print(\"TIEMPO SVM: \", resultados[\"SVM\"][2])\n",
    "print(\"[SVM]: El MAE es: {}\".format(resultados[\"SVM\"][0]))\n",
    "print(\"[SVM]: El RMSE es: {}\".format(resultados[\"SVM\"][1]))\n",
    "print(\"[SVM]: El score es: {}\".format(resultados[\"SVM\"][3]))\n",
    "print(\"---------------------------------------------------------------\")\n",
    "# SVM Modificado\n",
    "print(\"TIEMPO SVM MODIFICADO: \", resultados[\"SVM Modificado\"][2])\n",
    "print(\"[SVM MODIFICADO]: El MAE es: {}\".format(resultados[\"SVM Modificado\"][0]))\n",
    "print(\"[SVM MODIFICADO]: El RMSE es: {}\".format(resultados[\"SVM Modificado\"][1]))\n",
    "print(\"[SVM MODIFICADO]: El score es: {}\".format(resultados[\"SVM Modificado\"][3]))"
   ]
  },
  {
   "attachments": {},
   "cell_type": "markdown",
   "metadata": {},
   "source": [
    "Ahora evaluamos con el método del Random Forest con los hiperparámetros por omisión"
   ]
  },
  {
   "cell_type": "code",
   "execution_count": 89,
   "metadata": {},
   "outputs": [
    {
     "name": "stdout",
     "output_type": "stream",
     "text": [
      "TIEMPO:  30.201228380203247\n",
      "[Random Forest]: El MAE es: 2475975.4808219178\n",
      "[Random Forest]: El RMSE es: 3473614.2220459227\n",
      "[Random Forest]: El score es: [0.81611984]\n"
     ]
    }
   ],
   "source": [
    "# Creamos el RandomForest\n",
    "randFor_regr = RandomForestRegressor()\n",
    "np.random.seed(21)\n",
    "\n",
    "# Entrenamos el modelo y medimos el tiempo\n",
    "start = time.time()\n",
    "\n",
    "randFor_regr.fit(X_train_2, y_train_2)\n",
    "\n",
    "end = time.time()\n",
    "tiempo_randFor = end - start\n",
    "\n",
    "# Hacemos las predicciones\n",
    "y_test_pred = randFor_regr.predict(X_validation)\n",
    "\n",
    "# Calculamos los errores\n",
    "mae_randFor = mean_absolute_error(y_validation, y_test_pred)\n",
    "mse_randFor = mean_squared_error(y_validation, y_test_pred)\n",
    "rmse_randFor = np.sqrt(mse_randFor)\n",
    "score = cross_val_score(randFor_regr, X_train_2, y_train_2, cv=pds)\n",
    "resultados[\"Random Forest\"] = [mae_randFor, rmse_randFor, tiempo_randFor, score]\n",
    "\n",
    "# Imprimimos los resultados\n",
    "print(\"TIEMPO: \", resultados[\"Random Forest\"][2])\n",
    "print(\"[Random Forest]: El MAE es: {}\".format(resultados[\"Random Forest\"][0]))\n",
    "print(\"[Random Forest]: El RMSE es: {}\".format(resultados[\"Random Forest\"][1]))\n",
    "print(\"[Random Forest]: El score es: {}\".format(resultados[\"Random Forest\"][3]))\n"
   ]
  },
  {
   "attachments": {},
   "cell_type": "markdown",
   "metadata": {},
   "source": [
    "A continuación encontramos los mejores hiperparámetros."
   ]
  },
  {
   "cell_type": "code",
   "execution_count": 90,
   "metadata": {},
   "outputs": [
    {
     "data": {
      "text/plain": [
       "({'max_depth': 95,\n",
       "  'min_samples_leaf': 6,\n",
       "  'min_samples_split': 2,\n",
       "  'n_estimators': 200},\n",
       " -11537087528941.299)"
      ]
     },
     "execution_count": 90,
     "metadata": {},
     "output_type": "execute_result"
    }
   ],
   "source": [
    "# NOTA: Para reducir el tiempo de espera, se han comentado los parámetros que se probaron en el GridSearchCV a excepción de los que resultaron ser los óptimos\n",
    "# Creamos el RandomForest\n",
    "randFor_regr = RandomForestRegressor()\n",
    "np.random.seed(21)\n",
    "\n",
    "# Parámetros a probar\n",
    "param_grid = {\n",
    "            'max_depth': [95],\n",
    "            #'max_depth': [25, 95],\n",
    "            'min_samples_leaf': [6],\n",
    "            #'min_samples_leaf': [1, 6],\n",
    "            'min_samples_split': [2],\n",
    "            #'min_samples_split': [2, 12],\n",
    "            'n_estimators': [200]\n",
    "            #'n_estimators': [100, 200]\n",
    "            }\n",
    "\n",
    "# Creamos el GridSearchCV\n",
    "grid_search = GridSearchCV(estimator = randFor_regr, param_grid = param_grid, cv = pds, scoring = 'neg_mean_squared_error', n_jobs = -1)\n",
    "\n",
    "# Entrenamos el modelo\n",
    "np.random.seed(21)\n",
    "grid_search.fit(X_train_2, y_train_2)\n",
    "\n",
    "grid_search.best_params_, grid_search.best_score_"
   ]
  },
  {
   "attachments": {},
   "cell_type": "markdown",
   "metadata": {},
   "source": [
    "Tras encontrar los mejores valores para los parámetros, creamos un nuevo modelo con estos valores y medimos de nuevo las métricas evaluables"
   ]
  },
  {
   "cell_type": "code",
   "execution_count": 91,
   "metadata": {},
   "outputs": [
    {
     "name": "stdout",
     "output_type": "stream",
     "text": [
      "TIEMPO: 34.878509283065796\n",
      "[RANDOM FOREST MODIFICADO]: El MAE es: 2436817.7520805984\n",
      "[RANDOM FOREST MODIFICADO]: El RSME es: 3458432.014714191\n",
      "[RANDOM FOREST MODIFICADO]: El score es: [0.81924002]\n"
     ]
    }
   ],
   "source": [
    "# Creamos nuevo modelo con los mejores parámetros\n",
    "randFor_regr = RandomForestRegressor(**grid_search.best_params_)\n",
    "\n",
    "# Entrenamos el modelo y medimos el tiempo\n",
    "start = time.time()\n",
    "\n",
    "randFor_regr.fit(X_train_2, y_train_2)\n",
    "\n",
    "end = time.time()\n",
    "tiempo_randFor = end - start\n",
    "\n",
    "# Hacemos las predicciones\n",
    "y_test_pred = randFor_regr.predict(X_validation)\n",
    "\n",
    "# Calculamos los errores\n",
    "mae_randFor = mean_absolute_error(y_validation, y_test_pred)\n",
    "mse_randFor = mean_squared_error(y_validation, y_test_pred)\n",
    "rmse_randFor = np.sqrt(mse_randFor)\n",
    "score = cross_val_score(randFor_regr, X_train_2, y_train_2, cv=pds)\n",
    "resultados[\"Random Forest Modificado\"] = [mae_randFor, rmse_randFor, tiempo_randFor, score]\n",
    "\n",
    "# Imprimimos los resultados\n",
    "print(\"TIEMPO: {}\".format(resultados['Random Forest Modificado'][2]))\n",
    "print(\"[RANDOM FOREST MODIFICADO]: El MAE es: {}\".format(resultados['Random Forest Modificado'][0]))\n",
    "print(\"[RANDOM FOREST MODIFICADO]: El RSME es: {}\".format(resultados['Random Forest Modificado'][1]))\n",
    "print(\"[RANDOM FOREST MODIFICADO]: El score es: {}\".format(resultados['Random Forest Modificado'][3]))"
   ]
  },
  {
   "attachments": {},
   "cell_type": "markdown",
   "metadata": {},
   "source": [
    "A continuación mostramos la importancia de cada atributo en ambos modelos:"
   ]
  },
  {
   "cell_type": "code",
   "execution_count": 92,
   "metadata": {},
   "outputs": [
    {
     "name": "stdout",
     "output_type": "stream",
     "text": [
      "Importancia de las variables [SVM]:\n",
      "1: Importancia de dswrf_s5_1 -> 25909.888704408637\n",
      "2: Importancia de dlwrf_s1_1 -> 18929.65026267441\n",
      "3: Importancia de ulwrf_s5_1 -> 16617.712274526963\n",
      "4: Importancia de dlwrf_s3_1 -> 12983.317200136165\n",
      "5: Importancia de dswrf_s2_1 -> 12526.656980419091\n",
      "6: Importancia de ulwrf_t5_1 -> 10862.450480060943\n",
      "7: Importancia de ulwrf_s4_1 -> 10356.485146724093\n",
      "8: Importancia de dlwrf_s2_1 -> 9763.231354372314\n",
      "9: Importancia de uswrf_s2_1 -> 8859.842501810335\n",
      "10: Importancia de dlwrf_s4_1 -> 8713.974130210572\n",
      "11: Importancia de dswrf_s4_1 -> 8238.08598161521\n",
      "12: Importancia de ulwrf_s1_1 -> 7956.651029420012\n",
      "13: Importancia de uswrf_s5_1 -> 7888.263312853513\n",
      "14: Importancia de uswrf_s3_1 -> 7838.157270802845\n",
      "15: Importancia de ulwrf_t1_1 -> 7589.901029086541\n",
      "16: Importancia de ulwrf_s3_1 -> 6202.57612479377\n",
      "17: Importancia de dswrf_s3_1 -> 6072.430292277816\n",
      "18: Importancia de ulwrf_s2_1 -> 5800.013855719757\n",
      "19: Importancia de dlwrf_s5_1 -> 4713.632812685993\n",
      "20: Importancia de tmp_2m_4_1 -> 4704.99283095272\n",
      "21: Importancia de tmin_2m5_1 -> 4626.660772307412\n",
      "22: Importancia de tmp_2m_5_1 -> 4304.135703990356\n",
      "23: Importancia de pwat_ea3_1 -> 4245.047542750063\n",
      "24: Importancia de tmax_2m5_1 -> 4092.072111527444\n",
      "25: Importancia de tmax_2m4_1 -> 4081.3076155062454\n",
      "26: Importancia de tmin_2m4_1 -> 3932.893474707611\n",
      "27: Importancia de tmax_2m3_1 -> 3648.0720355127605\n",
      "28: Importancia de apcp_sf3_1 -> 3621.9424080712124\n",
      "29: Importancia de tmp_2m_3_1 -> 3572.0613628320416\n",
      "30: Importancia de pwat_ea2_1 -> 3457.802235552106\n",
      "31: Importancia de pres_ms4_1 -> 2973.86604002479\n",
      "32: Importancia de tmp_sfc5_1 -> 2849.80538853772\n",
      "33: Importancia de pwat_ea4_1 -> 2848.451481825284\n",
      "34: Importancia de pwat_ea1_1 -> 2643.8293719311887\n",
      "35: Importancia de tmp_2m_2_1 -> 2038.517593445249\n",
      "36: Importancia de tmax_2m2_1 -> 2013.4584287407151\n",
      "37: Importancia de tmp_sfc4_1 -> 1998.886955486385\n",
      "38: Importancia de apcp_sf1_1 -> 1959.6025124363716\n",
      "39: Importancia de ulwrf_t3_1 -> 1858.271562033161\n",
      "40: Importancia de apcp_sf2_1 -> 1848.3160862991645\n",
      "41: Importancia de apcp_sf5_1 -> 1837.866365702781\n",
      "42: Importancia de pres_ms3_1 -> 1759.2957531560678\n",
      "43: Importancia de tmp_2m_1_1 -> 1709.7426883097949\n",
      "44: Importancia de ulwrf_t2_1 -> 1689.7379345655256\n",
      "45: Importancia de tmin_2m2_1 -> 1655.8983573013988\n",
      "46: Importancia de uswrf_s4_1 -> 1624.559544909717\n",
      "47: Importancia de tmin_2m3_1 -> 1569.9225838500874\n",
      "48: Importancia de tmin_2m1_1 -> 1533.9888180593166\n",
      "49: Importancia de pres_ms5_1 -> 1444.8824705006555\n",
      "50: Importancia de pwat_ea5_1 -> 1141.6179968336846\n",
      "51: Importancia de tmax_2m1_1 -> 1108.9741189109413\n",
      "52: Importancia de apcp_sf4_1 -> 1065.567958015235\n",
      "53: Importancia de pres_ms2_1 -> 914.2199968866771\n",
      "54: Importancia de tmp_sfc1_1 -> 605.988972343486\n",
      "55: Importancia de pres_ms1_1 -> 482.14998326683417\n",
      "56: Importancia de tcolc_e3_1 -> 377.7077259819769\n",
      "57: Importancia de tcdc_ea3_1 -> 377.21638297707864\n",
      "58: Importancia de tmp_sfc3_1 -> 371.5156437439073\n",
      "59: Importancia de tcolc_e2_1 -> 335.87430271786116\n",
      "60: Importancia de tcdc_ea2_1 -> 334.24997428087465\n",
      "61: Importancia de tcolc_e1_1 -> 279.3409459417458\n",
      "62: Importancia de tcdc_ea1_1 -> 278.33934670507404\n",
      "63: Importancia de tcdc_ea4_1 -> 261.2723746026172\n",
      "64: Importancia de tcolc_e4_1 -> 261.223049072476\n",
      "65: Importancia de dswrf_s1_1 -> 255.4545454545454\n",
      "66: Importancia de tcolc_e5_1 -> 125.59423704952682\n",
      "67: Importancia de tcdc_ea5_1 -> 125.59333112958058\n",
      "68: Importancia de ulwrf_t4_1 -> 71.15635325474727\n",
      "69: Importancia de uswrf_s1_1 -> 47.14284906740677\n",
      "70: Importancia de tmp_sfc2_1 -> 34.98012295247031\n",
      "71: Importancia de spfh_2m5_1 -> 3.1891087349750737\n",
      "72: Importancia de spfh_2m2_1 -> 1.8341307290328193\n",
      "73: Importancia de spfh_2m3_1 -> 1.5613650525801666\n",
      "74: Importancia de spfh_2m4_1 -> 1.3335138403562596\n",
      "75: Importancia de spfh_2m1_1 -> 0.7015092182851664\n",
      "\n",
      "---------------------------------------------------------------\n",
      "Importancia de las variables [Random Forest]:\n",
      "1: Importancia de dswrf_s4_1 -> 0.5207253334983256\n",
      "2: Importancia de dswrf_s3_1 -> 0.19933010446677438\n",
      "3: Importancia de dswrf_s5_1 -> 0.04696001052606392\n",
      "4: Importancia de uswrf_s3_1 -> 0.038337340758167145\n",
      "5: Importancia de uswrf_s4_1 -> 0.03742304841827988\n",
      "6: Importancia de uswrf_s5_1 -> 0.012680703701718234\n",
      "7: Importancia de uswrf_s2_1 -> 0.008217293861169706\n",
      "8: Importancia de apcp_sf1_1 -> 0.006415420575402204\n",
      "9: Importancia de tcolc_e1_1 -> 0.006323253101648033\n",
      "10: Importancia de tcolc_e2_1 -> 0.0051202814272396\n",
      "11: Importancia de apcp_sf2_1 -> 0.004290518130664222\n",
      "12: Importancia de apcp_sf4_1 -> 0.004212869738929724\n",
      "13: Importancia de ulwrf_t1_1 -> 0.004142729319002636\n",
      "14: Importancia de apcp_sf5_1 -> 0.004091795942928325\n",
      "15: Importancia de tcolc_e3_1 -> 0.004087521284385508\n",
      "16: Importancia de pwat_ea1_1 -> 0.0038608023966902323\n",
      "17: Importancia de tcdc_ea2_1 -> 0.003599755736438594\n",
      "18: Importancia de apcp_sf3_1 -> 0.0034054338428127482\n",
      "19: Importancia de dswrf_s2_1 -> 0.0034032003386319566\n",
      "20: Importancia de ulwrf_t5_1 -> 0.003378472194879207\n",
      "21: Importancia de ulwrf_t2_1 -> 0.003362229693949716\n",
      "22: Importancia de tmp_sfc5_1 -> 0.003223073556827911\n",
      "23: Importancia de tcolc_e4_1 -> 0.0030695417490967953\n",
      "24: Importancia de tcdc_ea1_1 -> 0.0030662917177940547\n",
      "25: Importancia de pwat_ea5_1 -> 0.0029175036286215035\n",
      "26: Importancia de tcolc_e5_1 -> 0.0025701077821333558\n",
      "27: Importancia de ulwrf_t4_1 -> 0.002564137660978761\n",
      "28: Importancia de ulwrf_t3_1 -> 0.0025130228443004748\n",
      "29: Importancia de dlwrf_s1_1 -> 0.002420810465523894\n",
      "30: Importancia de spfh_2m1_1 -> 0.0023465499019921445\n",
      "31: Importancia de spfh_2m5_1 -> 0.0022996757506629772\n",
      "32: Importancia de spfh_2m3_1 -> 0.0021600554772409947\n",
      "33: Importancia de spfh_2m2_1 -> 0.002151136060925271\n",
      "34: Importancia de tcdc_ea3_1 -> 0.0021371772999143417\n",
      "35: Importancia de pwat_ea2_1 -> 0.002032697422949118\n",
      "36: Importancia de tmp_2m_5_1 -> 0.0019397425906441904\n",
      "37: Importancia de pres_ms5_1 -> 0.0018304061066733378\n",
      "38: Importancia de tmp_sfc3_1 -> 0.0017837942742732708\n",
      "39: Importancia de pwat_ea3_1 -> 0.0016509609204566353\n",
      "40: Importancia de tmp_sfc4_1 -> 0.0016466205103805311\n",
      "41: Importancia de dlwrf_s5_1 -> 0.0016289941582337886\n",
      "42: Importancia de tcdc_ea4_1 -> 0.001563822709270084\n",
      "43: Importancia de pwat_ea4_1 -> 0.0015170626744037822\n",
      "44: Importancia de tcdc_ea5_1 -> 0.0014710768787780189\n",
      "45: Importancia de pres_ms1_1 -> 0.0014382856886975296\n",
      "46: Importancia de dlwrf_s2_1 -> 0.0014290748271356519\n",
      "47: Importancia de tmax_2m1_1 -> 0.0012395999335996783\n",
      "48: Importancia de spfh_2m4_1 -> 0.0012257360264331478\n",
      "49: Importancia de tmin_2m5_1 -> 0.0012159920898138746\n",
      "50: Importancia de pres_ms4_1 -> 0.001207962451684071\n",
      "51: Importancia de pres_ms2_1 -> 0.0011804388810320884\n",
      "52: Importancia de tmp_2m_4_1 -> 0.0011791256571981627\n",
      "53: Importancia de dlwrf_s4_1 -> 0.0011586367950881461\n",
      "54: Importancia de pres_ms3_1 -> 0.0011554486396888922\n",
      "55: Importancia de ulwrf_s4_1 -> 0.0011124341134450182\n",
      "56: Importancia de ulwrf_s1_1 -> 0.0010852331078533947\n",
      "57: Importancia de ulwrf_s5_1 -> 0.001082372890150236\n",
      "58: Importancia de dlwrf_s3_1 -> 0.001077888015162481\n",
      "59: Importancia de tmp_sfc2_1 -> 0.0010414680375554779\n",
      "60: Importancia de tmax_2m5_1 -> 0.0007735640342667403\n",
      "61: Importancia de tmax_2m2_1 -> 0.0007027100310967295\n",
      "62: Importancia de ulwrf_s2_1 -> 0.0006863199844825962\n",
      "63: Importancia de tmax_2m3_1 -> 0.000624263891749739\n",
      "64: Importancia de tmp_2m_2_1 -> 0.000617857056166101\n",
      "65: Importancia de tmin_2m3_1 -> 0.0006016825772890841\n",
      "66: Importancia de tmin_2m1_1 -> 0.000596567948188372\n",
      "67: Importancia de tmin_2m4_1 -> 0.0005870362555058019\n",
      "68: Importancia de tmax_2m4_1 -> 0.00048804220324926193\n",
      "69: Importancia de tmp_2m_3_1 -> 0.0004653864724959933\n",
      "70: Importancia de tmp_sfc1_1 -> 0.00045770231700861385\n",
      "71: Importancia de ulwrf_s3_1 -> 0.0004023225243319439\n",
      "72: Importancia de tmin_2m2_1 -> 0.00038007014979583176\n",
      "73: Importancia de dswrf_s1_1 -> 0.00037069413715160564\n",
      "74: Importancia de tmp_2m_1_1 -> 0.00030071238508680507\n",
      "75: Importancia de uswrf_s1_1 -> 0.00024298978142002842\n"
     ]
    }
   ],
   "source": [
    "print(\"Importancia de las variables [SVM]:\")\n",
    "relevancia = np.abs(svm_regr.coef_[0])\n",
    "indices = np.argsort(relevancia)[::-1]\n",
    "for i in range(X_train.shape[1]):\n",
    "    print(\"{indice}: Importancia de {variable} -> {importacia}\".format(indice = i+1, variable = X_train.columns[indices[i]], importacia = np.abs(svm_regr.coef_[0])[indices[i]]))\n",
    "print(\"\\n---------------------------------------------------------------\")\n",
    "print(\"Importancia de las variables [Random Forest]:\")\n",
    "relevancia = randFor_regr.feature_importances_\n",
    "indices = np.argsort(relevancia)[::-1]\n",
    "for i in range(X_train.shape[1]):\n",
    "    print(\"{indice}: Importancia de {variable} -> {importacia}\".format(indice = i+1, variable = X_train.columns[indices[i]], importacia = randFor_regr.feature_importances_[indices[i]]))"
   ]
  },
  {
   "attachments": {},
   "cell_type": "markdown",
   "metadata": {},
   "source": [
    "Como podemos ver, los atributos tienen diferente importancia según el modelo que se use ya que el orden de la lista generada varía considerablemente respecto a uno u otro. En ambos casos vemos que hay atributos que no son nada importantes y otros que lo son en gran magnitud siendo estos distintos dependiendo del caso."
   ]
  },
  {
   "attachments": {},
   "cell_type": "markdown",
   "metadata": {},
   "source": [
    "Ahora vamos a comparar los resultados de estos nuevos métodos para ver cual es el mejor de los 2 y si ese es también mejor que el que escogimos como ideal de los métodos simples."
   ]
  },
  {
   "cell_type": "code",
   "execution_count": 93,
   "metadata": {},
   "outputs": [
    {
     "name": "stdout",
     "output_type": "stream",
     "text": [
      "TIEMPO:  1.482239007949829\n",
      "[SVM MODIFICADO]: El MAE es: 2418841.9204970575\n",
      "[SVM MODIFICADO]: El RMSE es: 3685903.29729186\n",
      "[SVM MODIFICADO]: El score es: [0.8137497]\n",
      "---------------------------------------------------------------\n",
      "TIEMPO:  34.878509283065796\n",
      "[RANDOM FOREST MODIFICADO]: El MAE es: 2436817.7520805984\n",
      "[RANDOM FOREST MODIFICADO]: El RMSE es: 3458432.014714191\n",
      "[RANDOM FOREST MODIFICADO]: El score es: [0.81924002]\n",
      "---------------------------------------------------------------\n",
      "TIEMPO:  0.06581735610961914\n",
      "[REGRESIÓN LINEAL VIEJO]: El MAE es: 2510056.9122926663\n",
      "[REGRESIÓN LINEAL VIEJO]: El RMSE es: 3478654.055395637\n",
      "[REGRESIÓN LINEAL VIEJO]: El score es: [0.83089383]\n"
     ]
    }
   ],
   "source": [
    "# SVM\n",
    "print(\"TIEMPO: \", resultados[\"SVM Modificado\"][2])\n",
    "print(\"[SVM MODIFICADO]: El MAE es: {}\".format(resultados[\"SVM Modificado\"][0]))\n",
    "print(\"[SVM MODIFICADO]: El RMSE es: {}\".format(resultados[\"SVM Modificado\"][1]))\n",
    "print(\"[SVM MODIFICADO]: El score es: {}\".format(resultados[\"SVM Modificado\"][3]))\n",
    "print(\"---------------------------------------------------------------\")\n",
    "# RANDOM FOREST\n",
    "print(\"TIEMPO: \", resultados[\"Random Forest Modificado\"][2])\n",
    "print(\"[RANDOM FOREST MODIFICADO]: El MAE es: {}\".format(resultados[\"Random Forest Modificado\"][0]))\n",
    "print(\"[RANDOM FOREST MODIFICADO]: El RMSE es: {}\".format(resultados[\"Random Forest Modificado\"][1]))\n",
    "print(\"[RANDOM FOREST MODIFICADO]: El score es: {}\".format(resultados[\"Random Forest Modificado\"][3]))\n",
    "print(\"---------------------------------------------------------------\")\n",
    "# REGRESIÓN LINEAL\n",
    "print(\"TIEMPO: \", resultados[\"Regresión Lineal\"][2])\n",
    "print(\"[REGRESIÓN LINEAL VIEJO]: El MAE es: {}\".format(resultados[\"Regresión Lineal\"][0]))\n",
    "print(\"[REGRESIÓN LINEAL VIEJO]: El RMSE es: {}\".format(resultados[\"Regresión Lineal\"][1]))\n",
    "print(\"[REGRESIÓN LINEAL VIEJO]: El score es: {}\".format(resultados[\"Regresión Lineal\"][3]))"
   ]
  },
  {
   "attachments": {},
   "cell_type": "markdown",
   "metadata": {},
   "source": [
    "Podemos ver que el método de Random Forest no solo es mejor que el de SVM sino que también es mejor que el de Regresión Lineal ya que, a pesar de que el score del de regresión lineal es algo más alto, es muy similar al del Random Forest mientras que este tiene valores más bajos (y por tanto mejores) de MAE y RMSE. Por ello, pasamos a considerar este como el ideal de entre todos los existentes y por tanto se trata del que usaremos para desarrolar nuestro modelo final.\n",
    "\n",
    "NOTA: Ya que no se pide en el enunciado expresamente, no hemos aplicado la reducción de la dimensionalidad en los datos porque considerábamos injusto que las comparaciones entre los primeros 3 modelos y los 2 avanzados tuvieran distinto número de atributos. También, por no tener que alterar los datos de competición y para evitar arrastrar el ligero empeoramiento que provocaba bajas el número de atributos a 44, seguiremos utilizando 75."
   ]
  },
  {
   "attachments": {},
   "cell_type": "markdown",
   "metadata": {},
   "source": [
    "Sabiendo el modelo ideal (Random Forest) vamos ahora a calcular las métricas de evaluación utilizando el set de datos disponibles completo:"
   ]
  },
  {
   "cell_type": "code",
   "execution_count": 95,
   "metadata": {},
   "outputs": [
    {
     "name": "stdout",
     "output_type": "stream",
     "text": [
      "TIEMPO: 53.77869510650635\n",
      "[RANDOM FOREST FINAL]: El MAE es: 2311266.1472627968\n",
      "[RANDOM FOREST FINAL]: El RSME es: 3356702.903436277\n",
      "[RANDOM FOREST FINAL]: El score es: [0.78591987]\n"
     ]
    }
   ],
   "source": [
    "# Creamos nuevo modelo con los mejores parámetros\n",
    "params = {'max_depth': 95, 'min_samples_leaf': 6, 'min_samples_split': 2, 'n_estimators': 200}\n",
    "randFor_regr = RandomForestRegressor(**params)\n",
    "\n",
    "# Entrenamos el modelo y medimos el tiempo\n",
    "start = time.time()\n",
    "\n",
    "randFor_regr.fit(X_train, y_train)\n",
    "\n",
    "end = time.time()\n",
    "tiempo_randFor = end - start\n",
    "\n",
    "# Hacemos las predicciones\n",
    "y_test_pred = randFor_regr.predict(X_test)\n",
    "\n",
    "# Calculamos los errores\n",
    "mae_randFor = mean_absolute_error(y_test, y_test_pred)\n",
    "mse_randFor = mean_squared_error(y_test, y_test_pred)\n",
    "rmse_randFor = np.sqrt(mse_randFor)\n",
    "score = cross_val_score(randFor_regr, X_train, y_train, cv=pds_full)\n",
    "resultados[\"Random Forest Final\"] = [mae_randFor, rmse_randFor, tiempo_randFor, score]\n",
    "\n",
    "# Imprimimos los resultados\n",
    "print(\"TIEMPO: {}\".format(resultados['Random Forest Final'][2]))\n",
    "print(\"[RANDOM FOREST FINAL]: El MAE es: {}\".format(resultados['Random Forest Final'][0]))\n",
    "print(\"[RANDOM FOREST FINAL]: El RSME es: {}\".format(resultados['Random Forest Final'][1]))\n",
    "print(\"[RANDOM FOREST FINAL]: El score es: {}\".format(resultados['Random Forest Final'][3]))"
   ]
  },
  {
   "attachments": {},
   "cell_type": "markdown",
   "metadata": {},
   "source": [
    "Como podemos ver, los resultados de este modelo son mejores que todos los obtenidos anteriormente (en cuanto a MAE y RSME ya que son más bajos)."
   ]
  },
  {
   "attachments": {},
   "cell_type": "markdown",
   "metadata": {},
   "source": [
    "Ahora que tenemos el modelo ideal, vamos a crear el modelo final usando Random Forest"
   ]
  },
  {
   "cell_type": "code",
   "execution_count": 94,
   "metadata": {},
   "outputs": [],
   "source": [
    "# Modelo Final\n",
    "params = {'max_depth': 95, 'min_samples_leaf': 6, 'min_samples_split': 2, 'n_estimators': 200}\n",
    "modelo_final = RandomForestRegressor(**params)\n",
    "modelo_final.fit(X_train, y_train)\n",
    "\n",
    "with open('modelo_final.pkl', 'wb') as f:\n",
    "    pickle.dump(modelo_final, f)"
   ]
  }
 ],
 "metadata": {
  "kernelspec": {
   "display_name": "Python 3",
   "language": "python",
   "name": "python3"
  },
  "language_info": {
   "codemirror_mode": {
    "name": "ipython",
    "version": 3
   },
   "file_extension": ".py",
   "mimetype": "text/x-python",
   "name": "python",
   "nbconvert_exporter": "python",
   "pygments_lexer": "ipython3",
   "version": "3.9.0"
  },
  "orig_nbformat": 4
 },
 "nbformat": 4,
 "nbformat_minor": 2
}
